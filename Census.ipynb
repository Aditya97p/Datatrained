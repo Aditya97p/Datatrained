{
 "cells": [
  {
   "cell_type": "code",
   "execution_count": 1,
   "id": "26599813",
   "metadata": {},
   "outputs": [],
   "source": [
    "import pandas as pd\n",
    "import numpy as np\n",
    "import seaborn as sns\n",
    "import matplotlib.pyplot as plt\n",
    "from matplotlib  import * \n",
    "from scipy import stats\n",
    "import plotly.express as px\n",
    "\n",
    "import warnings\n",
    "warnings.filterwarnings('ignore')"
   ]
  },
  {
   "cell_type": "code",
   "execution_count": 2,
   "id": "7d6d4670",
   "metadata": {},
   "outputs": [],
   "source": [
    "df = pd.read_csv(\"DataTrained/census_income.csv\")"
   ]
  },
  {
   "cell_type": "code",
   "execution_count": 3,
   "id": "c0f408d2",
   "metadata": {},
   "outputs": [
    {
     "data": {
      "text/plain": [
       "(32560, 15)"
      ]
     },
     "execution_count": 3,
     "metadata": {},
     "output_type": "execute_result"
    }
   ],
   "source": [
    "df.shape"
   ]
  },
  {
   "cell_type": "code",
   "execution_count": 4,
   "id": "7c52c659",
   "metadata": {},
   "outputs": [
    {
     "name": "stdout",
     "output_type": "stream",
     "text": [
      "<class 'pandas.core.frame.DataFrame'>\n",
      "RangeIndex: 32560 entries, 0 to 32559\n",
      "Data columns (total 15 columns):\n",
      " #   Column          Non-Null Count  Dtype \n",
      "---  ------          --------------  ----- \n",
      " 0   Age             32560 non-null  int64 \n",
      " 1   Workclass       32560 non-null  object\n",
      " 2   Fnlwgt          32560 non-null  int64 \n",
      " 3   Education       32560 non-null  object\n",
      " 4   Education_num   32560 non-null  int64 \n",
      " 5   Marital_status  32560 non-null  object\n",
      " 6   Occupation      32560 non-null  object\n",
      " 7   Relationship    32560 non-null  object\n",
      " 8   Race            32560 non-null  object\n",
      " 9   Sex             32560 non-null  object\n",
      " 10  Capital_gain    32560 non-null  int64 \n",
      " 11  Capital_loss    32560 non-null  int64 \n",
      " 12  Hours_per_week  32560 non-null  int64 \n",
      " 13  Native_country  32560 non-null  object\n",
      " 14  Income          32560 non-null  object\n",
      "dtypes: int64(6), object(9)\n",
      "memory usage: 3.7+ MB\n"
     ]
    }
   ],
   "source": [
    "df.info()"
   ]
  },
  {
   "cell_type": "code",
   "execution_count": 5,
   "id": "26f57052",
   "metadata": {},
   "outputs": [
    {
     "data": {
      "text/html": [
       "<div>\n",
       "<style scoped>\n",
       "    .dataframe tbody tr th:only-of-type {\n",
       "        vertical-align: middle;\n",
       "    }\n",
       "\n",
       "    .dataframe tbody tr th {\n",
       "        vertical-align: top;\n",
       "    }\n",
       "\n",
       "    .dataframe thead th {\n",
       "        text-align: right;\n",
       "    }\n",
       "</style>\n",
       "<table border=\"1\" class=\"dataframe\">\n",
       "  <thead>\n",
       "    <tr style=\"text-align: right;\">\n",
       "      <th></th>\n",
       "      <th>Age</th>\n",
       "      <th>Workclass</th>\n",
       "      <th>Fnlwgt</th>\n",
       "      <th>Education</th>\n",
       "      <th>Education_num</th>\n",
       "      <th>Marital_status</th>\n",
       "      <th>Occupation</th>\n",
       "      <th>Relationship</th>\n",
       "      <th>Race</th>\n",
       "      <th>Sex</th>\n",
       "      <th>Capital_gain</th>\n",
       "      <th>Capital_loss</th>\n",
       "      <th>Hours_per_week</th>\n",
       "      <th>Native_country</th>\n",
       "      <th>Income</th>\n",
       "    </tr>\n",
       "  </thead>\n",
       "  <tbody>\n",
       "    <tr>\n",
       "      <th>0</th>\n",
       "      <td>50</td>\n",
       "      <td>Self-emp-not-inc</td>\n",
       "      <td>83311</td>\n",
       "      <td>Bachelors</td>\n",
       "      <td>13</td>\n",
       "      <td>Married-civ-spouse</td>\n",
       "      <td>Exec-managerial</td>\n",
       "      <td>Husband</td>\n",
       "      <td>White</td>\n",
       "      <td>Male</td>\n",
       "      <td>0</td>\n",
       "      <td>0</td>\n",
       "      <td>13</td>\n",
       "      <td>United-States</td>\n",
       "      <td>&lt;=50K</td>\n",
       "    </tr>\n",
       "    <tr>\n",
       "      <th>1</th>\n",
       "      <td>38</td>\n",
       "      <td>Private</td>\n",
       "      <td>215646</td>\n",
       "      <td>HS-grad</td>\n",
       "      <td>9</td>\n",
       "      <td>Divorced</td>\n",
       "      <td>Handlers-cleaners</td>\n",
       "      <td>Not-in-family</td>\n",
       "      <td>White</td>\n",
       "      <td>Male</td>\n",
       "      <td>0</td>\n",
       "      <td>0</td>\n",
       "      <td>40</td>\n",
       "      <td>United-States</td>\n",
       "      <td>&lt;=50K</td>\n",
       "    </tr>\n",
       "    <tr>\n",
       "      <th>2</th>\n",
       "      <td>53</td>\n",
       "      <td>Private</td>\n",
       "      <td>234721</td>\n",
       "      <td>11th</td>\n",
       "      <td>7</td>\n",
       "      <td>Married-civ-spouse</td>\n",
       "      <td>Handlers-cleaners</td>\n",
       "      <td>Husband</td>\n",
       "      <td>Black</td>\n",
       "      <td>Male</td>\n",
       "      <td>0</td>\n",
       "      <td>0</td>\n",
       "      <td>40</td>\n",
       "      <td>United-States</td>\n",
       "      <td>&lt;=50K</td>\n",
       "    </tr>\n",
       "    <tr>\n",
       "      <th>3</th>\n",
       "      <td>28</td>\n",
       "      <td>Private</td>\n",
       "      <td>338409</td>\n",
       "      <td>Bachelors</td>\n",
       "      <td>13</td>\n",
       "      <td>Married-civ-spouse</td>\n",
       "      <td>Prof-specialty</td>\n",
       "      <td>Wife</td>\n",
       "      <td>Black</td>\n",
       "      <td>Female</td>\n",
       "      <td>0</td>\n",
       "      <td>0</td>\n",
       "      <td>40</td>\n",
       "      <td>Cuba</td>\n",
       "      <td>&lt;=50K</td>\n",
       "    </tr>\n",
       "    <tr>\n",
       "      <th>4</th>\n",
       "      <td>37</td>\n",
       "      <td>Private</td>\n",
       "      <td>284582</td>\n",
       "      <td>Masters</td>\n",
       "      <td>14</td>\n",
       "      <td>Married-civ-spouse</td>\n",
       "      <td>Exec-managerial</td>\n",
       "      <td>Wife</td>\n",
       "      <td>White</td>\n",
       "      <td>Female</td>\n",
       "      <td>0</td>\n",
       "      <td>0</td>\n",
       "      <td>40</td>\n",
       "      <td>United-States</td>\n",
       "      <td>&lt;=50K</td>\n",
       "    </tr>\n",
       "  </tbody>\n",
       "</table>\n",
       "</div>"
      ],
      "text/plain": [
       "   Age          Workclass  Fnlwgt   Education  Education_num  \\\n",
       "0   50   Self-emp-not-inc   83311   Bachelors             13   \n",
       "1   38            Private  215646     HS-grad              9   \n",
       "2   53            Private  234721        11th              7   \n",
       "3   28            Private  338409   Bachelors             13   \n",
       "4   37            Private  284582     Masters             14   \n",
       "\n",
       "        Marital_status          Occupation    Relationship    Race      Sex  \\\n",
       "0   Married-civ-spouse     Exec-managerial         Husband   White     Male   \n",
       "1             Divorced   Handlers-cleaners   Not-in-family   White     Male   \n",
       "2   Married-civ-spouse   Handlers-cleaners         Husband   Black     Male   \n",
       "3   Married-civ-spouse      Prof-specialty            Wife   Black   Female   \n",
       "4   Married-civ-spouse     Exec-managerial            Wife   White   Female   \n",
       "\n",
       "   Capital_gain  Capital_loss  Hours_per_week  Native_country  Income  \n",
       "0             0             0              13   United-States   <=50K  \n",
       "1             0             0              40   United-States   <=50K  \n",
       "2             0             0              40   United-States   <=50K  \n",
       "3             0             0              40            Cuba   <=50K  \n",
       "4             0             0              40   United-States   <=50K  "
      ]
     },
     "execution_count": 5,
     "metadata": {},
     "output_type": "execute_result"
    }
   ],
   "source": [
    "df.head()"
   ]
  },
  {
   "cell_type": "code",
   "execution_count": 6,
   "id": "fac221f7",
   "metadata": {},
   "outputs": [
    {
     "data": {
      "text/plain": [
       "array([' <=50K', ' >50K'], dtype=object)"
      ]
     },
     "execution_count": 6,
     "metadata": {},
     "output_type": "execute_result"
    }
   ],
   "source": [
    "df['Income'].unique()"
   ]
  },
  {
   "cell_type": "code",
   "execution_count": 7,
   "id": "5506bf5e",
   "metadata": {},
   "outputs": [
    {
     "data": {
      "text/plain": [
       "array([' Self-emp-not-inc', ' Private', ' State-gov', ' Federal-gov',\n",
       "       ' Local-gov', ' ?', ' Self-emp-inc', ' Without-pay',\n",
       "       ' Never-worked'], dtype=object)"
      ]
     },
     "execution_count": 7,
     "metadata": {},
     "output_type": "execute_result"
    }
   ],
   "source": [
    "df['Workclass'].unique()"
   ]
  },
  {
   "cell_type": "code",
   "execution_count": 8,
   "id": "d73ce6cf",
   "metadata": {},
   "outputs": [
    {
     "data": {
      "text/plain": [
       "array([' Exec-managerial', ' Handlers-cleaners', ' Prof-specialty',\n",
       "       ' Other-service', ' Adm-clerical', ' Sales', ' Craft-repair',\n",
       "       ' Transport-moving', ' Farming-fishing', ' Machine-op-inspct',\n",
       "       ' Tech-support', ' ?', ' Protective-serv', ' Armed-Forces',\n",
       "       ' Priv-house-serv'], dtype=object)"
      ]
     },
     "execution_count": 8,
     "metadata": {},
     "output_type": "execute_result"
    }
   ],
   "source": [
    "df['Occupation'].unique()"
   ]
  },
  {
   "cell_type": "markdown",
   "id": "973c3de9",
   "metadata": {},
   "source": [
    "We can see '?' in the data. It does not pick '?' as missing values as they are encoded as strings instead of NaN.\n",
    "\n",
    "let's replace '?' with most repeated values in the column using mode. "
   ]
  },
  {
   "cell_type": "code",
   "execution_count": 9,
   "id": "f3a8d681",
   "metadata": {},
   "outputs": [],
   "source": [
    "df[\"Workclass\"][df[\"Workclass\"] == \" ?\"] = df[\"Workclass\"].mode()[0]\n",
    "df[\"Occupation\"][df[\"Occupation\"] == \" ?\"] = df[\"Occupation\"].mode()[0]\n",
    "df[\"Native_country\"][df[\"Native_country\"] == \" ?\"] = df[\"Native_country\"].mode()[0]"
   ]
  },
  {
   "cell_type": "code",
   "execution_count": 10,
   "id": "41d01c8f",
   "metadata": {},
   "outputs": [
    {
     "data": {
      "text/plain": [
       "Age               False\n",
       "Workclass         False\n",
       "Fnlwgt            False\n",
       "Education         False\n",
       "Education_num     False\n",
       "Marital_status    False\n",
       "Occupation        False\n",
       "Relationship      False\n",
       "Race              False\n",
       "Sex               False\n",
       "Capital_gain      False\n",
       "Capital_loss      False\n",
       "Hours_per_week    False\n",
       "Native_country    False\n",
       "Income            False\n",
       "dtype: bool"
      ]
     },
     "metadata": {},
     "output_type": "display_data"
    }
   ],
   "source": [
    "display(df.isnull().any())"
   ]
  },
  {
   "cell_type": "markdown",
   "id": "fac85025",
   "metadata": {},
   "source": [
    "# EDA"
   ]
  },
  {
   "cell_type": "code",
   "execution_count": 11,
   "id": "4b422caf",
   "metadata": {},
   "outputs": [
    {
     "name": "stdout",
     "output_type": "stream",
     "text": [
      " <=50K    24719\n",
      " >50K      7841\n",
      "Name: Income, dtype: int64\n"
     ]
    },
    {
     "data": {
      "image/png": "[encoded data removed]",
      "text/plain": [
       "<Figure size 432x288 with 1 Axes>"
      ]
     },
     "metadata": {
      "needs_background": "light"
     },
     "output_type": "display_data"
    }
   ],
   "source": [
    "df.Income.value_counts().plot(kind='bar', color=\"orange\", alpha=.65)\n",
    "plt.title(\"Income Breakdown\")\n",
    "print(df.Income.value_counts())"
   ]
  },
  {
   "cell_type": "code",
   "execution_count": 12,
   "id": "56b18c20",
   "metadata": {},
   "outputs": [
    {
     "name": "stdout",
     "output_type": "stream",
     "text": [
      "Income  Occupation        \n",
      " <=50K   Prof-specialty       3933\n",
      "         Adm-clerical         3262\n",
      "         Craft-repair         3170\n",
      "         Other-service        3158\n",
      "         Sales                2667\n",
      "         Exec-managerial      2098\n",
      "         Machine-op-inspct    1752\n",
      "         Handlers-cleaners    1284\n",
      "         Transport-moving     1277\n",
      "         Farming-fishing       879\n",
      "         Tech-support          645\n",
      "         Protective-serv       438\n",
      "         Priv-house-serv       148\n",
      "         Armed-Forces            8\n",
      " >50K    Prof-specialty       2050\n",
      "         Exec-managerial      1968\n",
      "         Sales                 983\n",
      "         Craft-repair          929\n",
      "         Adm-clerical          507\n",
      "         Transport-moving      320\n",
      "         Tech-support          283\n",
      "         Machine-op-inspct     250\n",
      "         Protective-serv       211\n",
      "         Other-service         137\n",
      "         Farming-fishing       115\n",
      "         Handlers-cleaners      86\n",
      "         Armed-Forces            1\n",
      "         Priv-house-serv         1\n",
      "Name: Occupation, dtype: int64\n"
     ]
    }
   ],
   "source": [
    "groupby_Occupation = df.groupby(by = [\"Income\"])[\"Occupation\"]\n",
    "print(groupby_Occupation.value_counts())"
   ]
  },
  {
   "cell_type": "code",
   "execution_count": 13,
   "id": "ef635434",
   "metadata": {},
   "outputs": [
    {
     "data": {
      "text/plain": [
       "(array([ 0,  1,  2,  3,  4,  5,  6,  7,  8,  9, 10, 11, 12, 13]),\n",
       " [Text(0, 0, ' Adm-clerical'),\n",
       "  Text(1, 0, ' Armed-Forces'),\n",
       "  Text(2, 0, ' Craft-repair'),\n",
       "  Text(3, 0, ' Exec-managerial'),\n",
       "  Text(4, 0, ' Farming-fishing'),\n",
       "  Text(5, 0, ' Handlers-cleaners'),\n",
       "  Text(6, 0, ' Machine-op-inspct'),\n",
       "  Text(7, 0, ' Other-service'),\n",
       "  Text(8, 0, ' Priv-house-serv'),\n",
       "  Text(9, 0, ' Prof-specialty'),\n",
       "  Text(10, 0, ' Protective-serv'),\n",
       "  Text(11, 0, ' Sales'),\n",
       "  Text(12, 0, ' Tech-support'),\n",
       "  Text(13, 0, ' Transport-moving')])"
      ]
     },
     "execution_count": 13,
     "metadata": {},
     "output_type": "execute_result"
    },
    {
     "data": {
      "image/png": "[encoded data removed]",
      "text/plain": [
       "<Figure size 432x288 with 1 Axes>"
      ]
     },
     "metadata": {
      "needs_background": "light"
     },
     "output_type": "display_data"
    }
   ],
   "source": [
    "pd.crosstab(df.Occupation,df.Income).plot(kind='bar', stacked=True)\n",
    "plt.title('Income with respect to Occupation')\n",
    "plt.xlabel('Occupation')\n",
    "plt.ylabel('Income')\n",
    "plt.xticks(rotation=40)"
   ]
  },
  {
   "cell_type": "markdown",
   "id": "614a56b4",
   "metadata": {},
   "source": [
    "For Income <=50K   Adm-clerical,Craft-repair,Other-service Occupations are more in number \n",
    "\n",
    "For Income >50K    Exec-managerial,Prof-specialty Occupations are more in number"
   ]
  },
  {
   "cell_type": "code",
   "execution_count": 14,
   "id": "83a84a15",
   "metadata": {},
   "outputs": [
    {
     "name": "stdout",
     "output_type": "stream",
     "text": [
      "Income  Workclass        \n",
      " <=50K   Private             19378\n",
      "         Self-emp-not-inc     1817\n",
      "         Local-gov            1476\n",
      "         State-gov             944\n",
      "         Federal-gov           589\n",
      "         Self-emp-inc          494\n",
      "         Without-pay            14\n",
      "         Never-worked            7\n",
      " >50K    Private              5154\n",
      "         Self-emp-not-inc      724\n",
      "         Self-emp-inc          622\n",
      "         Local-gov             617\n",
      "         Federal-gov           371\n",
      "         State-gov             353\n",
      "Name: Workclass, dtype: int64\n"
     ]
    }
   ],
   "source": [
    "groupby_Workclass = df.groupby(by = [\"Income\"])[\"Workclass\"]\n",
    "print(groupby_Workclass.value_counts())"
   ]
  },
  {
   "cell_type": "code",
   "execution_count": 15,
   "id": "f31765d6",
   "metadata": {},
   "outputs": [
    {
     "data": {
      "text/plain": [
       "(array([0, 1, 2, 3, 4, 5, 6, 7]),\n",
       " [Text(0, 0, ' Federal-gov'),\n",
       "  Text(1, 0, ' Local-gov'),\n",
       "  Text(2, 0, ' Never-worked'),\n",
       "  Text(3, 0, ' Private'),\n",
       "  Text(4, 0, ' Self-emp-inc'),\n",
       "  Text(5, 0, ' Self-emp-not-inc'),\n",
       "  Text(6, 0, ' State-gov'),\n",
       "  Text(7, 0, ' Without-pay')])"
      ]
     },
     "execution_count": 15,
     "metadata": {},
     "output_type": "execute_result"
    },
    {
     "data": {
      "image/png": "[encoded data removed]",
      "text/plain": [
       "<Figure size 432x288 with 1 Axes>"
      ]
     },
     "metadata": {
      "needs_background": "light"
     },
     "output_type": "display_data"
    }
   ],
   "source": [
    "pd.crosstab(df.Workclass,df.Income).plot(kind='bar', stacked=True)\n",
    "plt.title('Income with respect to Workclass')\n",
    "plt.xlabel('Workclass')\n",
    "plt.ylabel('Income')\n",
    "plt.xticks(rotation=40)"
   ]
  },
  {
   "cell_type": "markdown",
   "id": "73da852f",
   "metadata": {},
   "source": [
    "We can see for income <=50K there are more number of Private employees "
   ]
  },
  {
   "cell_type": "code",
   "execution_count": 16,
   "id": "91f16b07",
   "metadata": {},
   "outputs": [
    {
     "name": "stdout",
     "output_type": "stream",
     "text": [
      " Male      21789\n",
      " Female    10771\n",
      "Name: Sex, dtype: int64\n"
     ]
    },
    {
     "data": {
      "image/png": "[encoded data removed]",
      "text/plain": [
       "<Figure size 432x288 with 1 Axes>"
      ]
     },
     "metadata": {
      "needs_background": "light"
     },
     "output_type": "display_data"
    }
   ],
   "source": [
    "df.Sex.value_counts().plot(kind='bar', color=\"blue\", alpha=.65)\n",
    "plt.title(\"Sex\")\n",
    "print(df.Sex.value_counts())"
   ]
  },
  {
   "cell_type": "code",
   "execution_count": 17,
   "id": "943d3389",
   "metadata": {},
   "outputs": [
    {
     "name": "stdout",
     "output_type": "stream",
     "text": [
      "Income  Sex    \n",
      " <=50K   Male      15127\n",
      "         Female     9592\n",
      " >50K    Male       6662\n",
      "         Female     1179\n",
      "Name: Sex, dtype: int64\n"
     ]
    }
   ],
   "source": [
    "groupby_Sex = df.groupby(by = [\"Income\"])[\"Sex\"]\n",
    "print(groupby_Sex.value_counts())"
   ]
  },
  {
   "cell_type": "code",
   "execution_count": 18,
   "id": "1ef0c491",
   "metadata": {},
   "outputs": [
    {
     "data": {
      "text/plain": [
       "(array([0, 1]), [Text(0, 0, ' Female'), Text(1, 0, ' Male')])"
      ]
     },
     "execution_count": 18,
     "metadata": {},
     "output_type": "execute_result"
    },
    {
     "data": {
      "image/png": "[encoded data removed]",
      "text/plain": [
       "<Figure size 432x288 with 1 Axes>"
      ]
     },
     "metadata": {
      "needs_background": "light"
     },
     "output_type": "display_data"
    }
   ],
   "source": [
    "pd.crosstab(df.Sex,df.Income).plot(kind='bar', stacked=True)\n",
    "plt.title('Income with respect to Sex')\n",
    "plt.xlabel('Sex')\n",
    "plt.ylabel('Income')\n",
    "plt.xticks(rotation=40)"
   ]
  },
  {
   "cell_type": "code",
   "execution_count": 19,
   "id": "7743f5f4",
   "metadata": {},
   "outputs": [
    {
     "name": "stdout",
     "output_type": "stream",
     "text": [
      "Income  Sex      Occupation        \n",
      " <=50K   Female   Adm-clerical         2325\n",
      "                  Prof-specialty       1919\n",
      "                  Other-service        1749\n",
      "                  Sales                1175\n",
      "                  Exec-managerial       879\n",
      "                  Machine-op-inspct     530\n",
      "                  Tech-support          303\n",
      "                  Craft-repair          202\n",
      "                  Handlers-cleaners     160\n",
      "                  Priv-house-serv       140\n",
      "                  Transport-moving       81\n",
      "                  Protective-serv        66\n",
      "                  Farming-fishing        63\n",
      "         Male     Craft-repair         2968\n",
      "                  Prof-specialty       2014\n",
      "                  Sales                1492\n",
      "                  Other-service        1409\n",
      "                  Machine-op-inspct    1222\n",
      "                  Exec-managerial      1219\n",
      "                  Transport-moving     1196\n",
      "                  Handlers-cleaners    1124\n",
      "                  Adm-clerical          937\n",
      "                  Farming-fishing       816\n",
      "                  Protective-serv       372\n",
      "                  Tech-support          342\n",
      "                  Armed-Forces            8\n",
      "                  Priv-house-serv         8\n",
      " >50K    Female   Prof-specialty        437\n",
      "                  Exec-managerial       280\n",
      "                  Adm-clerical          212\n",
      "                  Sales                  88\n",
      "                  Other-service          51\n",
      "                  Tech-support           45\n",
      "                  Craft-repair           20\n",
      "                  Machine-op-inspct      20\n",
      "                  Protective-serv        10\n",
      "                  Transport-moving        9\n",
      "                  Handlers-cleaners       4\n",
      "                  Farming-fishing         2\n",
      "                  Priv-house-serv         1\n",
      "         Male     Exec-managerial      1688\n",
      "                  Prof-specialty       1613\n",
      "                  Craft-repair          909\n",
      "                  Sales                 895\n",
      "                  Transport-moving      311\n",
      "                  Adm-clerical          295\n",
      "                  Tech-support          238\n",
      "                  Machine-op-inspct     230\n",
      "                  Protective-serv       201\n",
      "                  Farming-fishing       113\n",
      "                  Other-service          86\n",
      "                  Handlers-cleaners      82\n",
      "                  Armed-Forces            1\n",
      "Name: Occupation, dtype: int64\n"
     ]
    }
   ],
   "source": [
    "groupby_Sex_Occupation = df.groupby(by = [\"Income\", \"Sex\"])[\"Occupation\"]\n",
    "print(groupby_Sex_Occupation.value_counts())"
   ]
  },
  {
   "cell_type": "code",
   "execution_count": 20,
   "id": "979f356a",
   "metadata": {},
   "outputs": [
    {
     "data": {
      "text/plain": [
       "([0, 1, 2, 3, 4, 5, 6, 7, 8, 9, 10, 11, 12, 13],\n",
       " [Text(0, 0, ' Exec-managerial'),\n",
       "  Text(1, 0, ' Handlers-cleaners'),\n",
       "  Text(2, 0, ' Prof-specialty'),\n",
       "  Text(3, 0, ' Other-service'),\n",
       "  Text(4, 0, ' Adm-clerical'),\n",
       "  Text(5, 0, ' Sales'),\n",
       "  Text(6, 0, ' Craft-repair'),\n",
       "  Text(7, 0, ' Transport-moving'),\n",
       "  Text(8, 0, ' Farming-fishing'),\n",
       "  Text(9, 0, ' Machine-op-inspct'),\n",
       "  Text(10, 0, ' Tech-support'),\n",
       "  Text(11, 0, ' Protective-serv'),\n",
       "  Text(12, 0, ' Armed-Forces'),\n",
       "  Text(13, 0, ' Priv-house-serv')])"
      ]
     },
     "execution_count": 20,
     "metadata": {},
     "output_type": "execute_result"
    },
    {
     "data": {
      "text/plain": [
       "<Figure size 1440x1080 with 0 Axes>"
      ]
     },
     "metadata": {},
     "output_type": "display_data"
    },
    {
     "data": {
      "image/png": "[encoded data removed]",
      "text/plain": [
       "<Figure size 795.25x360 with 2 Axes>"
      ]
     },
     "metadata": {
      "needs_background": "light"
     },
     "output_type": "display_data"
    }
   ],
   "source": [
    "plt.figure(figsize = (20,15))\n",
    "\n",
    "sns.displot(data = df, x = \"Occupation\", hue = \"Sex\", col = \"Income\")\n",
    "plt.xticks(rotation=90)"
   ]
  },
  {
   "cell_type": "code",
   "execution_count": 21,
   "id": "bcc4796c",
   "metadata": {},
   "outputs": [
    {
     "data": {
      "text/plain": [
       "<AxesSubplot:xlabel='Age', ylabel='Count'>"
      ]
     },
     "execution_count": 21,
     "metadata": {},
     "output_type": "execute_result"
    },
    {
     "data": {
      "image/png": "[encoded data removed]",
      "text/plain": [
       "<Figure size 432x288 with 1 Axes>"
      ]
     },
     "metadata": {
      "needs_background": "light"
     },
     "output_type": "display_data"
    }
   ],
   "source": [
    "plt.figure()\n",
    "sns.histplot(data = df, x = 'Age', bins = 8)"
   ]
  },
  {
   "cell_type": "markdown",
   "id": "8cc7a917",
   "metadata": {},
   "source": [
    "From above histogram, we can get to know that most of the people fall in the working age between 25 and 45."
   ]
  },
  {
   "cell_type": "code",
   "execution_count": 22,
   "id": "51cf9894",
   "metadata": {},
   "outputs": [
    {
     "data": {
      "text/plain": [
       "array([' Bachelors', ' HS-grad', ' 11th', ' Masters', ' 9th',\n",
       "       ' Some-college', ' Assoc-acdm', ' Assoc-voc', ' 7th-8th',\n",
       "       ' Doctorate', ' Prof-school', ' 5th-6th', ' 10th', ' 1st-4th',\n",
       "       ' Preschool', ' 12th'], dtype=object)"
      ]
     },
     "execution_count": 22,
     "metadata": {},
     "output_type": "execute_result"
    }
   ],
   "source": [
    "df['Education'].unique()"
   ]
  },
  {
   "cell_type": "code",
   "execution_count": 23,
   "id": "f344d007",
   "metadata": {},
   "outputs": [
    {
     "name": "stdout",
     "output_type": "stream",
     "text": [
      "Income  Education      Sex    \n",
      " <=50K   10th           Male       579\n",
      "                        Female     292\n",
      "         11th           Male       691\n",
      "                        Female     424\n",
      "         12th           Male       260\n",
      "                                  ... \n",
      " >50K    Masters        Female     179\n",
      "         Prof-school    Male       381\n",
      "                        Female      42\n",
      "         Some-college   Male      1190\n",
      "                        Female     197\n",
      "Name: Sex, Length: 61, dtype: int64\n"
     ]
    }
   ],
   "source": [
    "groupby_Sex_Education = df.groupby(by = [\"Income\", \"Education\"])[\"Sex\"]\n",
    "print(groupby_Sex_Education.value_counts())"
   ]
  },
  {
   "cell_type": "code",
   "execution_count": 24,
   "id": "4b721c2a",
   "metadata": {},
   "outputs": [
    {
     "data": {
      "text/plain": [
       "<AxesSubplot:xlabel='Workclass', ylabel='count'>"
      ]
     },
     "execution_count": 24,
     "metadata": {},
     "output_type": "execute_result"
    },
    {
     "data": {
      "image/png": "[encoded data removed]",
      "text/plain": [
       "<Figure size 864x360 with 1 Axes>"
      ]
     },
     "metadata": {
      "needs_background": "light"
     },
     "output_type": "display_data"
    }
   ],
   "source": [
    "fig = plt.figure(figsize=(12,5))\n",
    "sns.countplot(df.Workclass, hue=df.Income)"
   ]
  },
  {
   "cell_type": "markdown",
   "id": "44a86a79",
   "metadata": {},
   "source": [
    "<=50K earners are highest within Private workclass.\n",
    "\n",
    "50K+ earners are higher than <=50K in only Self-emp-inc level. At all other levels, the trends are reverse.\n",
    "\n",
    "We can see levels with <5% data, let's group some levels"
   ]
  },
  {
   "cell_type": "code",
   "execution_count": 25,
   "id": "90c8989d",
   "metadata": {},
   "outputs": [
    {
     "data": {
      "text/plain": [
       "<AxesSubplot:>"
      ]
     },
     "execution_count": 25,
     "metadata": {},
     "output_type": "execute_result"
    },
    {
     "data": {
      "image/png": "[encoded data removed]",
      "text/plain": [
       "<Figure size 864x360 with 1 Axes>"
      ]
     },
     "metadata": {
      "needs_background": "light"
     },
     "output_type": "display_data"
    }
   ],
   "source": [
    "mapper = {' Self-emp-not-inc': 'Self-emp', \n",
    "                                             ' Self-emp-inc': 'Self-emp', \n",
    "                                             ' Local-gov': 'Government', \n",
    "                                            ' State-gov':'Government', \n",
    "                                             ' Federal-gov':'Government',\n",
    "                                             ' Without-pay':'Unemployed',\n",
    "                                            ' Never-worked':'Unemployed'}\n",
    "df['Workclass'] = df['Workclass'].map(mapper).fillna(df['Workclass'])\n",
    "# Re-engineered 'Workclass' feature\n",
    "\n",
    "fig = plt.figure(figsize=(12,5))\n",
    "df['Workclass'].value_counts().plot(kind='bar')"
   ]
  },
  {
   "cell_type": "code",
   "execution_count": 26,
   "id": "1e7b3d36",
   "metadata": {},
   "outputs": [
    {
     "data": {
      "text/plain": [
       "array(['Self-emp', ' Private', 'Government', 'Unemployed'], dtype=object)"
      ]
     },
     "execution_count": 26,
     "metadata": {},
     "output_type": "execute_result"
    }
   ],
   "source": [
    "df['Workclass'].unique()"
   ]
  },
  {
   "cell_type": "code",
   "execution_count": 27,
   "id": "3c304461",
   "metadata": {},
   "outputs": [
    {
     "data": {
      "text/plain": [
       "<AxesSubplot:xlabel='Marital_status', ylabel='count'>"
      ]
     },
     "execution_count": 27,
     "metadata": {},
     "output_type": "execute_result"
    },
    {
     "data": {
      "image/png": "[encoded data removed]",
      "text/plain": [
       "<Figure size 1080x432 with 1 Axes>"
      ]
     },
     "metadata": {
      "needs_background": "light"
     },
     "output_type": "display_data"
    }
   ],
   "source": [
    "fig = plt.figure(figsize=(15,6))\n",
    "sns.countplot(df['Marital_status'], hue=df.Income)"
   ]
  },
  {
   "cell_type": "markdown",
   "id": "1994e52e",
   "metadata": {},
   "source": [
    "<=50K earners are highest across Never married and Married-civ-spouse.\n",
    "\n",
    "50K+ earners are highest across Married civ Spouse and low across others."
   ]
  },
  {
   "cell_type": "code",
   "execution_count": 28,
   "id": "43d545d4",
   "metadata": {},
   "outputs": [
    {
     "data": {
      "text/plain": [
       "<AxesSubplot:>"
      ]
     },
     "execution_count": 28,
     "metadata": {},
     "output_type": "execute_result"
    },
    {
     "data": {
      "image/png": "[encoded data removed]",
      "text/plain": [
       "<Figure size 864x360 with 1 Axes>"
      ]
     },
     "metadata": {
      "needs_background": "light"
     },
     "output_type": "display_data"
    }
   ],
   "source": [
    "map_marriage = { ' Never-married': 'Single',\n",
    "                                                          ' Widowed':'Single',\n",
    "                                                          ' Divorced': 'Divorced/Separated',\n",
    "                                                          ' Separated':'Divorced/Separated',\n",
    "                                                          ' Married-spouse-absent':'Divorced/Separated',\n",
    "                                                          ' Married-AF-spouse':'Married',\n",
    "                                                          ' Married-civ-spouse':'Married'}\n",
    "\n",
    "df['Marital_status'] = df['Marital_status'].map(map_marriage).fillna(df['Marital_status'])\n",
    "# Re-engineered 'Marital_status' feature\n",
    "\n",
    "fig = plt.figure(figsize=(12,5))\n",
    "df['Marital_status'].value_counts().plot(kind='bar')"
   ]
  },
  {
   "cell_type": "code",
   "execution_count": 29,
   "id": "63d16f9f",
   "metadata": {},
   "outputs": [
    {
     "data": {
      "text/plain": [
       "<AxesSubplot:xlabel='Education', ylabel='count'>"
      ]
     },
     "execution_count": 29,
     "metadata": {},
     "output_type": "execute_result"
    },
    {
     "data": {
      "image/png": "[encoded data removed]",
      "text/plain": [
       "<Figure size 1080x432 with 1 Axes>"
      ]
     },
     "metadata": {
      "needs_background": "light"
     },
     "output_type": "display_data"
    }
   ],
   "source": [
    "fig = plt.figure(figsize=(15,6))\n",
    "sns.countplot(df['Education'], hue=df.Income)"
   ]
  },
  {
   "cell_type": "code",
   "execution_count": 30,
   "id": "1130a60f",
   "metadata": {},
   "outputs": [
    {
     "data": {
      "text/plain": [
       "<AxesSubplot:xlabel='Education_num', ylabel='count'>"
      ]
     },
     "execution_count": 30,
     "metadata": {},
     "output_type": "execute_result"
    },
    {
     "data": {
      "image/png": "[encoded data removed]",
      "text/plain": [
       "<Figure size 1080x432 with 1 Axes>"
      ]
     },
     "metadata": {
      "needs_background": "light"
     },
     "output_type": "display_data"
    }
   ],
   "source": [
    "fig = plt.figure(figsize=(15,6))\n",
    "sns.countplot(df['Education_num'], hue=df.Income)"
   ]
  },
  {
   "cell_type": "markdown",
   "id": "35e2a556",
   "metadata": {},
   "source": [
    "Except for Masters, Prof school and Doctorate, other educations show that <=50K earners are more than 50K+ earners"
   ]
  },
  {
   "cell_type": "code",
   "execution_count": 31,
   "id": "2f8b667a",
   "metadata": {},
   "outputs": [
    {
     "data": {
      "text/plain": [
       "<AxesSubplot:>"
      ]
     },
     "execution_count": 31,
     "metadata": {},
     "output_type": "execute_result"
    },
    {
     "data": {
      "image/png": "[encoded data removed]",
      "text/plain": [
       "<Figure size 864x360 with 1 Axes>"
      ]
     },
     "metadata": {
      "needs_background": "light"
     },
     "output_type": "display_data"
    }
   ],
   "source": [
    "map_Education = {' Preschool': 'Below Matric',\n",
    "                                                ' 1st-4th': 'Below Matric',\n",
    "                                                ' 5th-6th':'Below Matric',\n",
    "                                                ' 7th-8th': 'Below Matric',\n",
    "                                                ' 9th':'Below Matric',\n",
    "                                                ' 10th':'Matric',\n",
    "                                                ' 11th':'Matric',\n",
    "                                                ' 12th':'Matric',\n",
    "                                                ' HS-grad':'UnderGrad',\n",
    "                                                ' Some-college':'UnderGrad',\n",
    "                                                ' Assoc-voc':'UnderGrad',\n",
    "                                                ' Assoc-acdm':'UnderGrad',\n",
    "                                                ' Bachelors':'UnderGrad',\n",
    "                                                ' Masters':'PostGrad',\n",
    "                                                ' Prof-school':'PostGrad',\n",
    "                                                ' Doctorate':'PostGrad'\n",
    "                                                }\n",
    "\n",
    "\n",
    "df['Education'] = df['Education'].map(map_Education).fillna(df['Education'])\n",
    "# Re-engineered 'Education' feature\n",
    "\n",
    "fig = plt.figure(figsize=(12,5))\n",
    "df['Education'].value_counts().plot(kind='bar')"
   ]
  },
  {
   "cell_type": "code",
   "execution_count": 32,
   "id": "e4f871cd",
   "metadata": {},
   "outputs": [],
   "source": [
    "numeric_columns = ['Age','Fnlwgt','Education_num','Capital_gain','Capital_loss','Hours_per_week']"
   ]
  },
  {
   "cell_type": "code",
   "execution_count": 33,
   "id": "bfcd7ba9",
   "metadata": {},
   "outputs": [
    {
     "data": {
      "image/png": "[encoded data removed]",
      "text/plain": [
       "<Figure size 432x288 with 1 Axes>"
      ]
     },
     "metadata": {
      "needs_background": "light"
     },
     "output_type": "display_data"
    },
    {
     "data": {
      "image/png": "[encoded data removed]",
      "text/plain": [
       "<Figure size 432x288 with 1 Axes>"
      ]
     },
     "metadata": {
      "needs_background": "light"
     },
     "output_type": "display_data"
    },
    {
     "data": {
      "image/png": "[encoded data removed]",
      "text/plain": [
       "<Figure size 432x288 with 1 Axes>"
      ]
     },
     "metadata": {
      "needs_background": "light"
     },
     "output_type": "display_data"
    },
    {
     "data": {
      "image/png": "[encoded data removed]",
      "text/plain": [
       "<Figure size 432x288 with 1 Axes>"
      ]
     },
     "metadata": {
      "needs_background": "light"
     },
     "output_type": "display_data"
    },
    {
     "data": {
      "image/png": "[encoded data removed]",
      "text/plain": [
       "<Figure size 432x288 with 1 Axes>"
      ]
     },
     "metadata": {
      "needs_background": "light"
     },
     "output_type": "display_data"
    },
    {
     "data": {
      "image/png": "[encoded data removed]",
      "text/plain": [
       "<Figure size 432x288 with 1 Axes>"
      ]
     },
     "metadata": {
      "needs_background": "light"
     },
     "output_type": "display_data"
    }
   ],
   "source": [
    "for i in numeric_columns:\n",
    "  sns.boxplot(x = df[i])\n",
    "  plt.show()\n"
   ]
  },
  {
   "cell_type": "code",
   "execution_count": 34,
   "id": "760914b6",
   "metadata": {},
   "outputs": [
    {
     "data": {
      "text/html": [
       "<div>\n",
       "<style scoped>\n",
       "    .dataframe tbody tr th:only-of-type {\n",
       "        vertical-align: middle;\n",
       "    }\n",
       "\n",
       "    .dataframe tbody tr th {\n",
       "        vertical-align: top;\n",
       "    }\n",
       "\n",
       "    .dataframe thead th {\n",
       "        text-align: right;\n",
       "    }\n",
       "</style>\n",
       "<table border=\"1\" class=\"dataframe\">\n",
       "  <thead>\n",
       "    <tr style=\"text-align: right;\">\n",
       "      <th></th>\n",
       "      <th>Age</th>\n",
       "      <th>Workclass</th>\n",
       "      <th>Fnlwgt</th>\n",
       "      <th>Education</th>\n",
       "      <th>Education_num</th>\n",
       "      <th>Marital_status</th>\n",
       "      <th>Occupation</th>\n",
       "      <th>Relationship</th>\n",
       "      <th>Race</th>\n",
       "      <th>Sex</th>\n",
       "      <th>Capital_gain</th>\n",
       "      <th>Capital_loss</th>\n",
       "      <th>Hours_per_week</th>\n",
       "      <th>Native_country</th>\n",
       "      <th>Income</th>\n",
       "    </tr>\n",
       "  </thead>\n",
       "  <tbody>\n",
       "    <tr>\n",
       "      <th>0</th>\n",
       "      <td>50</td>\n",
       "      <td>Self-emp</td>\n",
       "      <td>83311</td>\n",
       "      <td>UnderGrad</td>\n",
       "      <td>13</td>\n",
       "      <td>Married</td>\n",
       "      <td>Exec-managerial</td>\n",
       "      <td>Husband</td>\n",
       "      <td>White</td>\n",
       "      <td>Male</td>\n",
       "      <td>0</td>\n",
       "      <td>0</td>\n",
       "      <td>13</td>\n",
       "      <td>United-States</td>\n",
       "      <td>&lt;=50K</td>\n",
       "    </tr>\n",
       "    <tr>\n",
       "      <th>1</th>\n",
       "      <td>38</td>\n",
       "      <td>Private</td>\n",
       "      <td>215646</td>\n",
       "      <td>UnderGrad</td>\n",
       "      <td>9</td>\n",
       "      <td>Divorced/Separated</td>\n",
       "      <td>Handlers-cleaners</td>\n",
       "      <td>Not-in-family</td>\n",
       "      <td>White</td>\n",
       "      <td>Male</td>\n",
       "      <td>0</td>\n",
       "      <td>0</td>\n",
       "      <td>40</td>\n",
       "      <td>United-States</td>\n",
       "      <td>&lt;=50K</td>\n",
       "    </tr>\n",
       "    <tr>\n",
       "      <th>2</th>\n",
       "      <td>53</td>\n",
       "      <td>Private</td>\n",
       "      <td>234721</td>\n",
       "      <td>Matric</td>\n",
       "      <td>7</td>\n",
       "      <td>Married</td>\n",
       "      <td>Handlers-cleaners</td>\n",
       "      <td>Husband</td>\n",
       "      <td>Black</td>\n",
       "      <td>Male</td>\n",
       "      <td>0</td>\n",
       "      <td>0</td>\n",
       "      <td>40</td>\n",
       "      <td>United-States</td>\n",
       "      <td>&lt;=50K</td>\n",
       "    </tr>\n",
       "    <tr>\n",
       "      <th>3</th>\n",
       "      <td>28</td>\n",
       "      <td>Private</td>\n",
       "      <td>338409</td>\n",
       "      <td>UnderGrad</td>\n",
       "      <td>13</td>\n",
       "      <td>Married</td>\n",
       "      <td>Prof-specialty</td>\n",
       "      <td>Wife</td>\n",
       "      <td>Black</td>\n",
       "      <td>Female</td>\n",
       "      <td>0</td>\n",
       "      <td>0</td>\n",
       "      <td>40</td>\n",
       "      <td>Cuba</td>\n",
       "      <td>&lt;=50K</td>\n",
       "    </tr>\n",
       "    <tr>\n",
       "      <th>4</th>\n",
       "      <td>37</td>\n",
       "      <td>Private</td>\n",
       "      <td>284582</td>\n",
       "      <td>PostGrad</td>\n",
       "      <td>14</td>\n",
       "      <td>Married</td>\n",
       "      <td>Exec-managerial</td>\n",
       "      <td>Wife</td>\n",
       "      <td>White</td>\n",
       "      <td>Female</td>\n",
       "      <td>0</td>\n",
       "      <td>0</td>\n",
       "      <td>40</td>\n",
       "      <td>United-States</td>\n",
       "      <td>&lt;=50K</td>\n",
       "    </tr>\n",
       "  </tbody>\n",
       "</table>\n",
       "</div>"
      ],
      "text/plain": [
       "   Age Workclass  Fnlwgt  Education  Education_num      Marital_status  \\\n",
       "0   50  Self-emp   83311  UnderGrad             13             Married   \n",
       "1   38   Private  215646  UnderGrad              9  Divorced/Separated   \n",
       "2   53   Private  234721     Matric              7             Married   \n",
       "3   28   Private  338409  UnderGrad             13             Married   \n",
       "4   37   Private  284582   PostGrad             14             Married   \n",
       "\n",
       "           Occupation    Relationship    Race      Sex  Capital_gain  \\\n",
       "0     Exec-managerial         Husband   White     Male             0   \n",
       "1   Handlers-cleaners   Not-in-family   White     Male             0   \n",
       "2   Handlers-cleaners         Husband   Black     Male             0   \n",
       "3      Prof-specialty            Wife   Black   Female             0   \n",
       "4     Exec-managerial            Wife   White   Female             0   \n",
       "\n",
       "   Capital_loss  Hours_per_week  Native_country  Income  \n",
       "0             0              13   United-States   <=50K  \n",
       "1             0              40   United-States   <=50K  \n",
       "2             0              40   United-States   <=50K  \n",
       "3             0              40            Cuba   <=50K  \n",
       "4             0              40   United-States   <=50K  "
      ]
     },
     "execution_count": 34,
     "metadata": {},
     "output_type": "execute_result"
    }
   ],
   "source": [
    "df.head()"
   ]
  },
  {
   "cell_type": "code",
   "execution_count": 35,
   "id": "57e20f12",
   "metadata": {},
   "outputs": [
    {
     "data": {
      "text/plain": [
       "(32560, 15)"
      ]
     },
     "execution_count": 35,
     "metadata": {},
     "output_type": "execute_result"
    }
   ],
   "source": [
    "df.shape"
   ]
  },
  {
   "cell_type": "markdown",
   "id": "36ba1120",
   "metadata": {},
   "source": [
    "#### percentage of outliers in every columns"
   ]
  },
  {
   "cell_type": "code",
   "execution_count": 36,
   "id": "d7f12fab",
   "metadata": {},
   "outputs": [],
   "source": [
    "Q1 = df.quantile(0.25)\n",
    "Q3 = df.quantile(0.75)\n",
    "IQR = Q3 - Q1"
   ]
  },
  {
   "cell_type": "code",
   "execution_count": 37,
   "id": "9693cdb9",
   "metadata": {},
   "outputs": [
    {
     "data": {
      "text/plain": [
       "Age                0.439189\n",
       "Capital_gain       8.326167\n",
       "Capital_loss       4.665233\n",
       "Education          0.000000\n",
       "Education_num      3.679361\n",
       "Fnlwgt             3.046683\n",
       "Hours_per_week    27.665848\n",
       "Income             0.000000\n",
       "Marital_status     0.000000\n",
       "Native_country     0.000000\n",
       "Occupation         0.000000\n",
       "Race               0.000000\n",
       "Relationship       0.000000\n",
       "Sex                0.000000\n",
       "Workclass          0.000000\n",
       "dtype: float64"
      ]
     },
     "execution_count": 37,
     "metadata": {},
     "output_type": "execute_result"
    }
   ],
   "source": [
    "((((df < (Q1 - 1.5 * IQR)) | (df > (Q3 + 1.5 * IQR))).sum())/32560)*100"
   ]
  },
  {
   "cell_type": "markdown",
   "id": "50ff30e3",
   "metadata": {},
   "source": [
    "setting a quantile to get rid of some of the outlier values and filtered accordingly."
   ]
  },
  {
   "cell_type": "code",
   "execution_count": 38,
   "id": "4347ede2",
   "metadata": {},
   "outputs": [],
   "source": [
    "q_low = df[\"Fnlwgt\"].quantile(0.01)\n",
    "q_hi  = df[\"Fnlwgt\"].quantile(0.99)\n",
    "df = df[(df[\"Fnlwgt\"] < q_hi) & (df[\"Fnlwgt\"] > q_low)]"
   ]
  },
  {
   "cell_type": "code",
   "execution_count": 39,
   "id": "9c75653e",
   "metadata": {},
   "outputs": [],
   "source": [
    "df = df[(df['Education_num'] <= 16) | (df['Education_num'] >= 4)]\n",
    "df = df[df['Capital_gain'] <= 60000]\n",
    "df = df[df['Capital_loss'] <= 3000]\n",
    "df = df[(df['Hours_per_week'] <= 80) | (df['Hours_per_week'] >= 20)]"
   ]
  },
  {
   "cell_type": "markdown",
   "id": "32fbab51",
   "metadata": {},
   "source": [
    "I have set a quantile to get rid of some of the outlier values and filtered accordingly.\n",
    "\n",
    "ther columns, I got rid of the outliers not with quantile, but according to the filters"
   ]
  },
  {
   "cell_type": "markdown",
   "id": "a755f507",
   "metadata": {},
   "source": [
    "#### Let's separate the numerical columns from the categorical"
   ]
  },
  {
   "cell_type": "code",
   "execution_count": 40,
   "id": "9826edc4",
   "metadata": {},
   "outputs": [],
   "source": [
    "categorical_data = []\n",
    "numerical_data = []\n",
    "\n",
    "for i,j in enumerate(df.dtypes):\n",
    "    if j == object:\n",
    "        categorical_data.append(df.iloc[:, i])\n",
    "    else :\n",
    "        numerical_data.append(df.iloc[:, i])\n",
    "        \n",
    "categorical_data = pd.DataFrame(categorical_data).transpose()\n",
    "numerical_data = pd.DataFrame(numerical_data).transpose()"
   ]
  },
  {
   "cell_type": "code",
   "execution_count": 41,
   "id": "c05f24b8",
   "metadata": {},
   "outputs": [
    {
     "data": {
      "text/plain": [
       "Workclass         0\n",
       "Education         0\n",
       "Marital_status    0\n",
       "Occupation        0\n",
       "Relationship      0\n",
       "Race              0\n",
       "Sex               0\n",
       "Native_country    0\n",
       "Income            0\n",
       "dtype: int64"
      ]
     },
     "execution_count": 41,
     "metadata": {},
     "output_type": "execute_result"
    }
   ],
   "source": [
    "categorical_data.isnull().sum().sort_values()\n"
   ]
  },
  {
   "cell_type": "code",
   "execution_count": 42,
   "id": "2e27cd41",
   "metadata": {},
   "outputs": [
    {
     "data": {
      "text/html": [
       "<div>\n",
       "<style scoped>\n",
       "    .dataframe tbody tr th:only-of-type {\n",
       "        vertical-align: middle;\n",
       "    }\n",
       "\n",
       "    .dataframe tbody tr th {\n",
       "        vertical-align: top;\n",
       "    }\n",
       "\n",
       "    .dataframe thead th {\n",
       "        text-align: right;\n",
       "    }\n",
       "</style>\n",
       "<table border=\"1\" class=\"dataframe\">\n",
       "  <thead>\n",
       "    <tr style=\"text-align: right;\">\n",
       "      <th></th>\n",
       "      <th>Workclass</th>\n",
       "      <th>Education</th>\n",
       "      <th>Marital_status</th>\n",
       "      <th>Occupation</th>\n",
       "      <th>Relationship</th>\n",
       "      <th>Race</th>\n",
       "      <th>Sex</th>\n",
       "      <th>Native_country</th>\n",
       "      <th>Income</th>\n",
       "    </tr>\n",
       "  </thead>\n",
       "  <tbody>\n",
       "    <tr>\n",
       "      <th>0</th>\n",
       "      <td>Self-emp</td>\n",
       "      <td>UnderGrad</td>\n",
       "      <td>Married</td>\n",
       "      <td>Exec-managerial</td>\n",
       "      <td>Husband</td>\n",
       "      <td>White</td>\n",
       "      <td>Male</td>\n",
       "      <td>United-States</td>\n",
       "      <td>&lt;=50K</td>\n",
       "    </tr>\n",
       "    <tr>\n",
       "      <th>1</th>\n",
       "      <td>Private</td>\n",
       "      <td>UnderGrad</td>\n",
       "      <td>Divorced/Separated</td>\n",
       "      <td>Handlers-cleaners</td>\n",
       "      <td>Not-in-family</td>\n",
       "      <td>White</td>\n",
       "      <td>Male</td>\n",
       "      <td>United-States</td>\n",
       "      <td>&lt;=50K</td>\n",
       "    </tr>\n",
       "    <tr>\n",
       "      <th>2</th>\n",
       "      <td>Private</td>\n",
       "      <td>Matric</td>\n",
       "      <td>Married</td>\n",
       "      <td>Handlers-cleaners</td>\n",
       "      <td>Husband</td>\n",
       "      <td>Black</td>\n",
       "      <td>Male</td>\n",
       "      <td>United-States</td>\n",
       "      <td>&lt;=50K</td>\n",
       "    </tr>\n",
       "    <tr>\n",
       "      <th>3</th>\n",
       "      <td>Private</td>\n",
       "      <td>UnderGrad</td>\n",
       "      <td>Married</td>\n",
       "      <td>Prof-specialty</td>\n",
       "      <td>Wife</td>\n",
       "      <td>Black</td>\n",
       "      <td>Female</td>\n",
       "      <td>Cuba</td>\n",
       "      <td>&lt;=50K</td>\n",
       "    </tr>\n",
       "    <tr>\n",
       "      <th>4</th>\n",
       "      <td>Private</td>\n",
       "      <td>PostGrad</td>\n",
       "      <td>Married</td>\n",
       "      <td>Exec-managerial</td>\n",
       "      <td>Wife</td>\n",
       "      <td>White</td>\n",
       "      <td>Female</td>\n",
       "      <td>United-States</td>\n",
       "      <td>&lt;=50K</td>\n",
       "    </tr>\n",
       "  </tbody>\n",
       "</table>\n",
       "</div>"
      ],
      "text/plain": [
       "  Workclass  Education      Marital_status          Occupation  \\\n",
       "0  Self-emp  UnderGrad             Married     Exec-managerial   \n",
       "1   Private  UnderGrad  Divorced/Separated   Handlers-cleaners   \n",
       "2   Private     Matric             Married   Handlers-cleaners   \n",
       "3   Private  UnderGrad             Married      Prof-specialty   \n",
       "4   Private   PostGrad             Married     Exec-managerial   \n",
       "\n",
       "     Relationship    Race      Sex  Native_country  Income  \n",
       "0         Husband   White     Male   United-States   <=50K  \n",
       "1   Not-in-family   White     Male   United-States   <=50K  \n",
       "2         Husband   Black     Male   United-States   <=50K  \n",
       "3            Wife   Black   Female            Cuba   <=50K  \n",
       "4            Wife   White   Female   United-States   <=50K  "
      ]
     },
     "execution_count": 42,
     "metadata": {},
     "output_type": "execute_result"
    }
   ],
   "source": [
    "categorical_data.head()"
   ]
  },
  {
   "cell_type": "code",
   "execution_count": 43,
   "id": "90b86d57",
   "metadata": {},
   "outputs": [],
   "source": [
    "# transform the target column\n",
    "\n",
    "target_values = {' <=50K': 0, ' >50K': 1 }\n",
    "\n",
    "target = categorical_data['Income']\n",
    "categorical_data.drop('Income', axis=1, inplace=True)\n",
    "\n",
    "target = target.map(target_values)"
   ]
  },
  {
   "cell_type": "code",
   "execution_count": 44,
   "id": "d7aaf415",
   "metadata": {},
   "outputs": [
    {
     "data": {
      "text/plain": [
       "0    0\n",
       "1    0\n",
       "2    0\n",
       "3    0\n",
       "4    0\n",
       "Name: Income, dtype: int64"
      ]
     },
     "execution_count": 44,
     "metadata": {},
     "output_type": "execute_result"
    }
   ],
   "source": [
    "target.head()"
   ]
  },
  {
   "cell_type": "markdown",
   "id": "21418ebf",
   "metadata": {},
   "source": [
    "we are going to use LabelEncoder :\n",
    "\n",
    "what it is actually do it encode labels with value between 0 and n_classes-1"
   ]
  },
  {
   "cell_type": "code",
   "execution_count": 45,
   "id": "34bd8e71",
   "metadata": {},
   "outputs": [],
   "source": [
    "from sklearn.preprocessing import LabelEncoder  \n",
    "le = LabelEncoder()"
   ]
  },
  {
   "cell_type": "code",
   "execution_count": 46,
   "id": "633f61b5",
   "metadata": {},
   "outputs": [],
   "source": [
    "# transform other columns\n",
    "\n",
    "for i in categorical_data:\n",
    "    categorical_data[i] = le.fit_transform(categorical_data[i])"
   ]
  },
  {
   "cell_type": "code",
   "execution_count": 47,
   "id": "06897963",
   "metadata": {},
   "outputs": [
    {
     "data": {
      "text/html": [
       "<div>\n",
       "<style scoped>\n",
       "    .dataframe tbody tr th:only-of-type {\n",
       "        vertical-align: middle;\n",
       "    }\n",
       "\n",
       "    .dataframe tbody tr th {\n",
       "        vertical-align: top;\n",
       "    }\n",
       "\n",
       "    .dataframe thead th {\n",
       "        text-align: right;\n",
       "    }\n",
       "</style>\n",
       "<table border=\"1\" class=\"dataframe\">\n",
       "  <thead>\n",
       "    <tr style=\"text-align: right;\">\n",
       "      <th></th>\n",
       "      <th>Workclass</th>\n",
       "      <th>Education</th>\n",
       "      <th>Marital_status</th>\n",
       "      <th>Occupation</th>\n",
       "      <th>Relationship</th>\n",
       "      <th>Race</th>\n",
       "      <th>Sex</th>\n",
       "      <th>Native_country</th>\n",
       "    </tr>\n",
       "  </thead>\n",
       "  <tbody>\n",
       "    <tr>\n",
       "      <th>0</th>\n",
       "      <td>2</td>\n",
       "      <td>3</td>\n",
       "      <td>1</td>\n",
       "      <td>3</td>\n",
       "      <td>0</td>\n",
       "      <td>4</td>\n",
       "      <td>1</td>\n",
       "      <td>38</td>\n",
       "    </tr>\n",
       "    <tr>\n",
       "      <th>1</th>\n",
       "      <td>0</td>\n",
       "      <td>3</td>\n",
       "      <td>0</td>\n",
       "      <td>5</td>\n",
       "      <td>1</td>\n",
       "      <td>4</td>\n",
       "      <td>1</td>\n",
       "      <td>38</td>\n",
       "    </tr>\n",
       "    <tr>\n",
       "      <th>2</th>\n",
       "      <td>0</td>\n",
       "      <td>1</td>\n",
       "      <td>1</td>\n",
       "      <td>5</td>\n",
       "      <td>0</td>\n",
       "      <td>2</td>\n",
       "      <td>1</td>\n",
       "      <td>38</td>\n",
       "    </tr>\n",
       "    <tr>\n",
       "      <th>3</th>\n",
       "      <td>0</td>\n",
       "      <td>3</td>\n",
       "      <td>1</td>\n",
       "      <td>9</td>\n",
       "      <td>5</td>\n",
       "      <td>2</td>\n",
       "      <td>0</td>\n",
       "      <td>4</td>\n",
       "    </tr>\n",
       "    <tr>\n",
       "      <th>4</th>\n",
       "      <td>0</td>\n",
       "      <td>2</td>\n",
       "      <td>1</td>\n",
       "      <td>3</td>\n",
       "      <td>5</td>\n",
       "      <td>4</td>\n",
       "      <td>0</td>\n",
       "      <td>38</td>\n",
       "    </tr>\n",
       "  </tbody>\n",
       "</table>\n",
       "</div>"
      ],
      "text/plain": [
       "   Workclass  Education  Marital_status  Occupation  Relationship  Race  Sex  \\\n",
       "0          2          3               1           3             0     4    1   \n",
       "1          0          3               0           5             1     4    1   \n",
       "2          0          1               1           5             0     2    1   \n",
       "3          0          3               1           9             5     2    0   \n",
       "4          0          2               1           3             5     4    0   \n",
       "\n",
       "   Native_country  \n",
       "0              38  \n",
       "1              38  \n",
       "2              38  \n",
       "3               4  \n",
       "4              38  "
      ]
     },
     "execution_count": 47,
     "metadata": {},
     "output_type": "execute_result"
    }
   ],
   "source": [
    "categorical_data.head()"
   ]
  },
  {
   "cell_type": "code",
   "execution_count": 48,
   "id": "aaacbb2f",
   "metadata": {},
   "outputs": [],
   "source": [
    "df = pd.concat([categorical_data, numerical_data, target], axis=1)"
   ]
  },
  {
   "cell_type": "code",
   "execution_count": 49,
   "id": "cd644b6d",
   "metadata": {},
   "outputs": [
    {
     "data": {
      "text/html": [
       "<div>\n",
       "<style scoped>\n",
       "    .dataframe tbody tr th:only-of-type {\n",
       "        vertical-align: middle;\n",
       "    }\n",
       "\n",
       "    .dataframe tbody tr th {\n",
       "        vertical-align: top;\n",
       "    }\n",
       "\n",
       "    .dataframe thead th {\n",
       "        text-align: right;\n",
       "    }\n",
       "</style>\n",
       "<table border=\"1\" class=\"dataframe\">\n",
       "  <thead>\n",
       "    <tr style=\"text-align: right;\">\n",
       "      <th></th>\n",
       "      <th>Workclass</th>\n",
       "      <th>Education</th>\n",
       "      <th>Marital_status</th>\n",
       "      <th>Occupation</th>\n",
       "      <th>Relationship</th>\n",
       "      <th>Race</th>\n",
       "      <th>Sex</th>\n",
       "      <th>Native_country</th>\n",
       "      <th>Age</th>\n",
       "      <th>Fnlwgt</th>\n",
       "      <th>Education_num</th>\n",
       "      <th>Capital_gain</th>\n",
       "      <th>Capital_loss</th>\n",
       "      <th>Hours_per_week</th>\n",
       "      <th>Income</th>\n",
       "    </tr>\n",
       "  </thead>\n",
       "  <tbody>\n",
       "    <tr>\n",
       "      <th>0</th>\n",
       "      <td>2</td>\n",
       "      <td>3</td>\n",
       "      <td>1</td>\n",
       "      <td>3</td>\n",
       "      <td>0</td>\n",
       "      <td>4</td>\n",
       "      <td>1</td>\n",
       "      <td>38</td>\n",
       "      <td>50</td>\n",
       "      <td>83311</td>\n",
       "      <td>13</td>\n",
       "      <td>0</td>\n",
       "      <td>0</td>\n",
       "      <td>13</td>\n",
       "      <td>0</td>\n",
       "    </tr>\n",
       "    <tr>\n",
       "      <th>1</th>\n",
       "      <td>0</td>\n",
       "      <td>3</td>\n",
       "      <td>0</td>\n",
       "      <td>5</td>\n",
       "      <td>1</td>\n",
       "      <td>4</td>\n",
       "      <td>1</td>\n",
       "      <td>38</td>\n",
       "      <td>38</td>\n",
       "      <td>215646</td>\n",
       "      <td>9</td>\n",
       "      <td>0</td>\n",
       "      <td>0</td>\n",
       "      <td>40</td>\n",
       "      <td>0</td>\n",
       "    </tr>\n",
       "    <tr>\n",
       "      <th>2</th>\n",
       "      <td>0</td>\n",
       "      <td>1</td>\n",
       "      <td>1</td>\n",
       "      <td>5</td>\n",
       "      <td>0</td>\n",
       "      <td>2</td>\n",
       "      <td>1</td>\n",
       "      <td>38</td>\n",
       "      <td>53</td>\n",
       "      <td>234721</td>\n",
       "      <td>7</td>\n",
       "      <td>0</td>\n",
       "      <td>0</td>\n",
       "      <td>40</td>\n",
       "      <td>0</td>\n",
       "    </tr>\n",
       "    <tr>\n",
       "      <th>3</th>\n",
       "      <td>0</td>\n",
       "      <td>3</td>\n",
       "      <td>1</td>\n",
       "      <td>9</td>\n",
       "      <td>5</td>\n",
       "      <td>2</td>\n",
       "      <td>0</td>\n",
       "      <td>4</td>\n",
       "      <td>28</td>\n",
       "      <td>338409</td>\n",
       "      <td>13</td>\n",
       "      <td>0</td>\n",
       "      <td>0</td>\n",
       "      <td>40</td>\n",
       "      <td>0</td>\n",
       "    </tr>\n",
       "    <tr>\n",
       "      <th>4</th>\n",
       "      <td>0</td>\n",
       "      <td>2</td>\n",
       "      <td>1</td>\n",
       "      <td>3</td>\n",
       "      <td>5</td>\n",
       "      <td>4</td>\n",
       "      <td>0</td>\n",
       "      <td>38</td>\n",
       "      <td>37</td>\n",
       "      <td>284582</td>\n",
       "      <td>14</td>\n",
       "      <td>0</td>\n",
       "      <td>0</td>\n",
       "      <td>40</td>\n",
       "      <td>0</td>\n",
       "    </tr>\n",
       "  </tbody>\n",
       "</table>\n",
       "</div>"
      ],
      "text/plain": [
       "   Workclass  Education  Marital_status  Occupation  Relationship  Race  Sex  \\\n",
       "0          2          3               1           3             0     4    1   \n",
       "1          0          3               0           5             1     4    1   \n",
       "2          0          1               1           5             0     2    1   \n",
       "3          0          3               1           9             5     2    0   \n",
       "4          0          2               1           3             5     4    0   \n",
       "\n",
       "   Native_country  Age  Fnlwgt  Education_num  Capital_gain  Capital_loss  \\\n",
       "0              38   50   83311             13             0             0   \n",
       "1              38   38  215646              9             0             0   \n",
       "2              38   53  234721              7             0             0   \n",
       "3               4   28  338409             13             0             0   \n",
       "4              38   37  284582             14             0             0   \n",
       "\n",
       "   Hours_per_week  Income  \n",
       "0              13       0  \n",
       "1              40       0  \n",
       "2              40       0  \n",
       "3              40       0  \n",
       "4              40       0  "
      ]
     },
     "execution_count": 49,
     "metadata": {},
     "output_type": "execute_result"
    }
   ],
   "source": [
    "df.head()"
   ]
  },
  {
   "cell_type": "markdown",
   "id": "d198406d",
   "metadata": {},
   "source": [
    "### Modelbuilding using select percentile feature"
   ]
  },
  {
   "cell_type": "code",
   "execution_count": 50,
   "id": "9400d77c",
   "metadata": {},
   "outputs": [],
   "source": [
    "from sklearn.feature_selection import SelectPercentile, chi2"
   ]
  },
  {
   "cell_type": "code",
   "execution_count": 51,
   "id": "933f58e5",
   "metadata": {},
   "outputs": [],
   "source": [
    "X = pd.concat([categorical_data, numerical_data], axis=1)\n",
    "y = target \n",
    "\n",
    "SPercentile = SelectPercentile(score_func=chi2, percentile = 80)\n",
    "SPercentile = SPercentile.fit(X,y)\n"
   ]
  },
  {
   "cell_type": "code",
   "execution_count": 52,
   "id": "ffa21d73",
   "metadata": {},
   "outputs": [
    {
     "name": "stdout",
     "output_type": "stream",
     "text": [
      "features index =  [ 0  2  3  4  6  8  9 10 11 12 13]\n",
      "features  =  ['Workclass', 'Marital_status', 'Occupation', 'Relationship', 'Sex', 'Age', 'Fnlwgt', 'Education_num', 'Capital_gain', 'Capital_loss', 'Hours_per_week']\n"
     ]
    }
   ],
   "source": [
    "# seperate the features to check pvalue\n",
    "\n",
    "cols = SPercentile.get_support(indices=True) # to return index value instead of boolean\n",
    "print('features index = ',cols)\n",
    "\n",
    "features = X.columns[cols]\n",
    "print('features  = ',list(features))"
   ]
  },
  {
   "cell_type": "code",
   "execution_count": 53,
   "id": "de919e0b",
   "metadata": {},
   "outputs": [
    {
     "data": {
      "text/html": [
       "<div>\n",
       "<style scoped>\n",
       "    .dataframe tbody tr th:only-of-type {\n",
       "        vertical-align: middle;\n",
       "    }\n",
       "\n",
       "    .dataframe tbody tr th {\n",
       "        vertical-align: top;\n",
       "    }\n",
       "\n",
       "    .dataframe thead th {\n",
       "        text-align: right;\n",
       "    }\n",
       "</style>\n",
       "<table border=\"1\" class=\"dataframe\">\n",
       "  <thead>\n",
       "    <tr style=\"text-align: right;\">\n",
       "      <th></th>\n",
       "      <th>features</th>\n",
       "      <th>Chi2Score</th>\n",
       "      <th>pValue</th>\n",
       "    </tr>\n",
       "  </thead>\n",
       "  <tbody>\n",
       "    <tr>\n",
       "      <th>11</th>\n",
       "      <td>Capital_gain</td>\n",
       "      <td>3.393768e+07</td>\n",
       "      <td>0.000000e+00</td>\n",
       "    </tr>\n",
       "    <tr>\n",
       "      <th>12</th>\n",
       "      <td>Capital_loss</td>\n",
       "      <td>1.410503e+06</td>\n",
       "      <td>0.000000e+00</td>\n",
       "    </tr>\n",
       "    <tr>\n",
       "      <th>9</th>\n",
       "      <td>Fnlwgt</td>\n",
       "      <td>1.352681e+05</td>\n",
       "      <td>0.000000e+00</td>\n",
       "    </tr>\n",
       "    <tr>\n",
       "      <th>8</th>\n",
       "      <td>Age</td>\n",
       "      <td>8.221777e+03</td>\n",
       "      <td>0.000000e+00</td>\n",
       "    </tr>\n",
       "    <tr>\n",
       "      <th>13</th>\n",
       "      <td>Hours_per_week</td>\n",
       "      <td>6.067799e+03</td>\n",
       "      <td>0.000000e+00</td>\n",
       "    </tr>\n",
       "    <tr>\n",
       "      <th>4</th>\n",
       "      <td>Relationship</td>\n",
       "      <td>3.477845e+03</td>\n",
       "      <td>0.000000e+00</td>\n",
       "    </tr>\n",
       "    <tr>\n",
       "      <th>10</th>\n",
       "      <td>Education_num</td>\n",
       "      <td>2.261047e+03</td>\n",
       "      <td>0.000000e+00</td>\n",
       "    </tr>\n",
       "    <tr>\n",
       "      <th>0</th>\n",
       "      <td>Workclass</td>\n",
       "      <td>6.297202e+02</td>\n",
       "      <td>5.750017e-139</td>\n",
       "    </tr>\n",
       "    <tr>\n",
       "      <th>6</th>\n",
       "      <td>Sex</td>\n",
       "      <td>4.783584e+02</td>\n",
       "      <td>4.863624e-106</td>\n",
       "    </tr>\n",
       "    <tr>\n",
       "      <th>2</th>\n",
       "      <td>Marital_status</td>\n",
       "      <td>2.634526e+02</td>\n",
       "      <td>3.033570e-59</td>\n",
       "    </tr>\n",
       "    <tr>\n",
       "      <th>3</th>\n",
       "      <td>Occupation</td>\n",
       "      <td>8.825676e+01</td>\n",
       "      <td>5.748658e-21</td>\n",
       "    </tr>\n",
       "    <tr>\n",
       "      <th>1</th>\n",
       "      <td>Education</td>\n",
       "      <td>4.680317e+01</td>\n",
       "      <td>7.848651e-12</td>\n",
       "    </tr>\n",
       "    <tr>\n",
       "      <th>5</th>\n",
       "      <td>Race</td>\n",
       "      <td>3.095141e+01</td>\n",
       "      <td>2.645696e-08</td>\n",
       "    </tr>\n",
       "    <tr>\n",
       "      <th>7</th>\n",
       "      <td>Native_country</td>\n",
       "      <td>1.616863e+01</td>\n",
       "      <td>5.794569e-05</td>\n",
       "    </tr>\n",
       "  </tbody>\n",
       "</table>\n",
       "</div>"
      ],
      "text/plain": [
       "          features     Chi2Score         pValue\n",
       "11    Capital_gain  3.393768e+07   0.000000e+00\n",
       "12    Capital_loss  1.410503e+06   0.000000e+00\n",
       "9           Fnlwgt  1.352681e+05   0.000000e+00\n",
       "8              Age  8.221777e+03   0.000000e+00\n",
       "13  Hours_per_week  6.067799e+03   0.000000e+00\n",
       "4     Relationship  3.477845e+03   0.000000e+00\n",
       "10   Education_num  2.261047e+03   0.000000e+00\n",
       "0        Workclass  6.297202e+02  5.750017e-139\n",
       "6              Sex  4.783584e+02  4.863624e-106\n",
       "2   Marital_status  2.634526e+02   3.033570e-59\n",
       "3       Occupation  8.825676e+01   5.748658e-21\n",
       "1        Education  4.680317e+01   7.848651e-12\n",
       "5             Race  3.095141e+01   2.645696e-08\n",
       "7   Native_country  1.616863e+01   5.794569e-05"
      ]
     },
     "execution_count": 53,
     "metadata": {},
     "output_type": "execute_result"
    }
   ],
   "source": [
    "df_scores= pd.DataFrame({'features':X.columns, 'Chi2Score':SPercentile.scores_, 'pValue':SPercentile.pvalues_})\n",
    "\n",
    "df_scores.sort_values(by='Chi2Score',ascending=False)"
   ]
  },
  {
   "cell_type": "code",
   "execution_count": 54,
   "id": "62234677",
   "metadata": {},
   "outputs": [],
   "source": [
    "# creating subset of selected features\n",
    "\n",
    "X=df[features]\n",
    "\n",
    "y = target"
   ]
  },
  {
   "cell_type": "code",
   "execution_count": 55,
   "id": "92bde2ba",
   "metadata": {},
   "outputs": [],
   "source": [
    "from sklearn.model_selection import train_test_split\n",
    "from sklearn.preprocessing import StandardScaler\n",
    "\n",
    "\n",
    "scaler = StandardScaler()\n",
    "X_scaler = scaler.fit_transform(X)"
   ]
  },
  {
   "cell_type": "code",
   "execution_count": 56,
   "id": "9566551d",
   "metadata": {},
   "outputs": [],
   "source": [
    "x_train, x_pred, y_train, y_pred = train_test_split(X_scaler,y, test_size=0.2,random_state=55)\n"
   ]
  },
  {
   "cell_type": "code",
   "execution_count": 57,
   "id": "7c90c238",
   "metadata": {},
   "outputs": [],
   "source": [
    "from sklearn.svm import SVC, LinearSVC\n",
    "from sklearn.ensemble import RandomForestClassifier\n",
    "from sklearn.neighbors import KNeighborsClassifier\n",
    "from sklearn.naive_bayes import GaussianNB\n",
    "from sklearn.linear_model import Perceptron\n",
    "from sklearn.linear_model import SGDClassifier\n",
    "from sklearn.tree import DecisionTreeClassifier\n",
    "from sklearn.metrics import classification_report,confusion_matrix\n",
    "from sklearn.ensemble import AdaBoostClassifier\n",
    "from sklearn.ensemble import GradientBoostingClassifier\n",
    "from sklearn.linear_model import LogisticRegression\n",
    "from sklearn.metrics import accuracy_score"
   ]
  },
  {
   "cell_type": "markdown",
   "id": "8536e214",
   "metadata": {},
   "source": [
    "## LogisticRegression"
   ]
  },
  {
   "cell_type": "code",
   "execution_count": 58,
   "id": "f3ecb53f",
   "metadata": {},
   "outputs": [
    {
     "data": {
      "text/html": [
       "<style>#sk-container-id-1 {color: black;background-color: white;}#sk-container-id-1 pre{padding: 0;}#sk-container-id-1 div.sk-toggleable {background-color: white;}#sk-container-id-1 label.sk-toggleable__label {cursor: pointer;display: block;width: 100%;margin-bottom: 0;padding: 0.3em;box-sizing: border-box;text-align: center;}#sk-container-id-1 label.sk-toggleable__label-arrow:before {content: \"▸\";float: left;margin-right: 0.25em;color: #696969;}#sk-container-id-1 label.sk-toggleable__label-arrow:hover:before {color: black;}#sk-container-id-1 div.sk-estimator:hover label.sk-toggleable__label-arrow:before {color: black;}#sk-container-id-1 div.sk-toggleable__content {max-height: 0;max-width: 0;overflow: hidden;text-align: left;background-color: #f0f8ff;}#sk-container-id-1 div.sk-toggleable__content pre {margin: 0.2em;color: black;border-radius: 0.25em;background-color: #f0f8ff;}#sk-container-id-1 input.sk-toggleable__control:checked~div.sk-toggleable__content {max-height: 200px;max-width: 100%;overflow: auto;}#sk-container-id-1 input.sk-toggleable__control:checked~label.sk-toggleable__label-arrow:before {content: \"▾\";}#sk-container-id-1 div.sk-estimator input.sk-toggleable__control:checked~label.sk-toggleable__label {background-color: #d4ebff;}#sk-container-id-1 div.sk-label input.sk-toggleable__control:checked~label.sk-toggleable__label {background-color: #d4ebff;}#sk-container-id-1 input.sk-hidden--visually {border: 0;clip: rect(1px 1px 1px 1px);clip: rect(1px, 1px, 1px, 1px);height: 1px;margin: -1px;overflow: hidden;padding: 0;position: absolute;width: 1px;}#sk-container-id-1 div.sk-estimator {font-family: monospace;background-color: #f0f8ff;border: 1px dotted black;border-radius: 0.25em;box-sizing: border-box;margin-bottom: 0.5em;}#sk-container-id-1 div.sk-estimator:hover {background-color: #d4ebff;}#sk-container-id-1 div.sk-parallel-item::after {content: \"\";width: 100%;border-bottom: 1px solid gray;flex-grow: 1;}#sk-container-id-1 div.sk-label:hover label.sk-toggleable__label {background-color: #d4ebff;}#sk-container-id-1 div.sk-serial::before {content: \"\";position: absolute;border-left: 1px solid gray;box-sizing: border-box;top: 0;bottom: 0;left: 50%;z-index: 0;}#sk-container-id-1 div.sk-serial {display: flex;flex-direction: column;align-items: center;background-color: white;padding-right: 0.2em;padding-left: 0.2em;position: relative;}#sk-container-id-1 div.sk-item {position: relative;z-index: 1;}#sk-container-id-1 div.sk-parallel {display: flex;align-items: stretch;justify-content: center;background-color: white;position: relative;}#sk-container-id-1 div.sk-item::before, #sk-container-id-1 div.sk-parallel-item::before {content: \"\";position: absolute;border-left: 1px solid gray;box-sizing: border-box;top: 0;bottom: 0;left: 50%;z-index: -1;}#sk-container-id-1 div.sk-parallel-item {display: flex;flex-direction: column;z-index: 1;position: relative;background-color: white;}#sk-container-id-1 div.sk-parallel-item:first-child::after {align-self: flex-end;width: 50%;}#sk-container-id-1 div.sk-parallel-item:last-child::after {align-self: flex-start;width: 50%;}#sk-container-id-1 div.sk-parallel-item:only-child::after {width: 0;}#sk-container-id-1 div.sk-dashed-wrapped {border: 1px dashed gray;margin: 0 0.4em 0.5em 0.4em;box-sizing: border-box;padding-bottom: 0.4em;background-color: white;}#sk-container-id-1 div.sk-label label {font-family: monospace;font-weight: bold;display: inline-block;line-height: 1.2em;}#sk-container-id-1 div.sk-label-container {text-align: center;}#sk-container-id-1 div.sk-container {/* jupyter's `normalize.less` sets `[hidden] { display: none; }` but bootstrap.min.css set `[hidden] { display: none !important; }` so we also need the `!important` here to be able to override the default hidden behavior on the sphinx rendered scikit-learn.org. See: https://github.com/scikit-learn/scikit-learn/issues/21755 */display: inline-block !important;position: relative;}#sk-container-id-1 div.sk-text-repr-fallback {display: none;}</style><div id=\"sk-container-id-1\" class=\"sk-top-container\"><div class=\"sk-text-repr-fallback\"><pre>LogisticRegression()</pre><b>In a Jupyter environment, please rerun this cell to show the HTML representation or trust the notebook. <br />On GitHub, the HTML representation is unable to render, please try loading this page with nbviewer.org.</b></div><div class=\"sk-container\" hidden><div class=\"sk-item\"><div class=\"sk-estimator sk-toggleable\"><input class=\"sk-toggleable__control sk-hidden--visually\" id=\"sk-estimator-id-1\" type=\"checkbox\" checked><label for=\"sk-estimator-id-1\" class=\"sk-toggleable__label sk-toggleable__label-arrow\">LogisticRegression</label><div class=\"sk-toggleable__content\"><pre>LogisticRegression()</pre></div></div></div></div></div>"
      ],
      "text/plain": [
       "LogisticRegression()"
      ]
     },
     "execution_count": 58,
     "metadata": {},
     "output_type": "execute_result"
    }
   ],
   "source": [
    "lr = LogisticRegression()\n",
    "lr.fit(x_train, y_train)"
   ]
  },
  {
   "cell_type": "code",
   "execution_count": 59,
   "id": "868cf948",
   "metadata": {},
   "outputs": [],
   "source": [
    "pred_lr = lr.predict(x_pred)"
   ]
  },
  {
   "cell_type": "code",
   "execution_count": 60,
   "id": "a515dca8",
   "metadata": {},
   "outputs": [
    {
     "name": "stdout",
     "output_type": "stream",
     "text": [
      "Accuracy score: 82.46691871455577\n",
      "F1 score: 0.5495750708215298\n",
      "================================================================================\n",
      "              precision    recall  f1-score   support\n",
      "\n",
      "           0       0.85      0.94      0.89      4847\n",
      "           1       0.70      0.45      0.55      1501\n",
      "\n",
      "    accuracy                           0.82      6348\n",
      "   macro avg       0.77      0.70      0.72      6348\n",
      "weighted avg       0.81      0.82      0.81      6348\n",
      "\n"
     ]
    }
   ],
   "source": [
    "from sklearn.metrics  import f1_score \n",
    "print(\"Accuracy score: {}\".format(accuracy_score(y_pred, pred_lr)*100))\n",
    "print(\"F1 score: {}\".format(f1_score(y_pred, pred_lr)))\n",
    "print(\"=\"*80)\n",
    "print(classification_report(y_pred, pred_lr))"
   ]
  },
  {
   "cell_type": "markdown",
   "id": "bda7b152",
   "metadata": {},
   "source": [
    "## Random Forest Classifier"
   ]
  },
  {
   "cell_type": "code",
   "execution_count": 61,
   "id": "0600f880",
   "metadata": {},
   "outputs": [
    {
     "data": {
      "text/html": [
       "<style>#sk-container-id-2 {color: black;background-color: white;}#sk-container-id-2 pre{padding: 0;}#sk-container-id-2 div.sk-toggleable {background-color: white;}#sk-container-id-2 label.sk-toggleable__label {cursor: pointer;display: block;width: 100%;margin-bottom: 0;padding: 0.3em;box-sizing: border-box;text-align: center;}#sk-container-id-2 label.sk-toggleable__label-arrow:before {content: \"▸\";float: left;margin-right: 0.25em;color: #696969;}#sk-container-id-2 label.sk-toggleable__label-arrow:hover:before {color: black;}#sk-container-id-2 div.sk-estimator:hover label.sk-toggleable__label-arrow:before {color: black;}#sk-container-id-2 div.sk-toggleable__content {max-height: 0;max-width: 0;overflow: hidden;text-align: left;background-color: #f0f8ff;}#sk-container-id-2 div.sk-toggleable__content pre {margin: 0.2em;color: black;border-radius: 0.25em;background-color: #f0f8ff;}#sk-container-id-2 input.sk-toggleable__control:checked~div.sk-toggleable__content {max-height: 200px;max-width: 100%;overflow: auto;}#sk-container-id-2 input.sk-toggleable__control:checked~label.sk-toggleable__label-arrow:before {content: \"▾\";}#sk-container-id-2 div.sk-estimator input.sk-toggleable__control:checked~label.sk-toggleable__label {background-color: #d4ebff;}#sk-container-id-2 div.sk-label input.sk-toggleable__control:checked~label.sk-toggleable__label {background-color: #d4ebff;}#sk-container-id-2 input.sk-hidden--visually {border: 0;clip: rect(1px 1px 1px 1px);clip: rect(1px, 1px, 1px, 1px);height: 1px;margin: -1px;overflow: hidden;padding: 0;position: absolute;width: 1px;}#sk-container-id-2 div.sk-estimator {font-family: monospace;background-color: #f0f8ff;border: 1px dotted black;border-radius: 0.25em;box-sizing: border-box;margin-bottom: 0.5em;}#sk-container-id-2 div.sk-estimator:hover {background-color: #d4ebff;}#sk-container-id-2 div.sk-parallel-item::after {content: \"\";width: 100%;border-bottom: 1px solid gray;flex-grow: 1;}#sk-container-id-2 div.sk-label:hover label.sk-toggleable__label {background-color: #d4ebff;}#sk-container-id-2 div.sk-serial::before {content: \"\";position: absolute;border-left: 1px solid gray;box-sizing: border-box;top: 0;bottom: 0;left: 50%;z-index: 0;}#sk-container-id-2 div.sk-serial {display: flex;flex-direction: column;align-items: center;background-color: white;padding-right: 0.2em;padding-left: 0.2em;position: relative;}#sk-container-id-2 div.sk-item {position: relative;z-index: 1;}#sk-container-id-2 div.sk-parallel {display: flex;align-items: stretch;justify-content: center;background-color: white;position: relative;}#sk-container-id-2 div.sk-item::before, #sk-container-id-2 div.sk-parallel-item::before {content: \"\";position: absolute;border-left: 1px solid gray;box-sizing: border-box;top: 0;bottom: 0;left: 50%;z-index: -1;}#sk-container-id-2 div.sk-parallel-item {display: flex;flex-direction: column;z-index: 1;position: relative;background-color: white;}#sk-container-id-2 div.sk-parallel-item:first-child::after {align-self: flex-end;width: 50%;}#sk-container-id-2 div.sk-parallel-item:last-child::after {align-self: flex-start;width: 50%;}#sk-container-id-2 div.sk-parallel-item:only-child::after {width: 0;}#sk-container-id-2 div.sk-dashed-wrapped {border: 1px dashed gray;margin: 0 0.4em 0.5em 0.4em;box-sizing: border-box;padding-bottom: 0.4em;background-color: white;}#sk-container-id-2 div.sk-label label {font-family: monospace;font-weight: bold;display: inline-block;line-height: 1.2em;}#sk-container-id-2 div.sk-label-container {text-align: center;}#sk-container-id-2 div.sk-container {/* jupyter's `normalize.less` sets `[hidden] { display: none; }` but bootstrap.min.css set `[hidden] { display: none !important; }` so we also need the `!important` here to be able to override the default hidden behavior on the sphinx rendered scikit-learn.org. See: https://github.com/scikit-learn/scikit-learn/issues/21755 */display: inline-block !important;position: relative;}#sk-container-id-2 div.sk-text-repr-fallback {display: none;}</style><div id=\"sk-container-id-2\" class=\"sk-top-container\"><div class=\"sk-text-repr-fallback\"><pre>RandomForestClassifier()</pre><b>In a Jupyter environment, please rerun this cell to show the HTML representation or trust the notebook. <br />On GitHub, the HTML representation is unable to render, please try loading this page with nbviewer.org.</b></div><div class=\"sk-container\" hidden><div class=\"sk-item\"><div class=\"sk-estimator sk-toggleable\"><input class=\"sk-toggleable__control sk-hidden--visually\" id=\"sk-estimator-id-2\" type=\"checkbox\" checked><label for=\"sk-estimator-id-2\" class=\"sk-toggleable__label sk-toggleable__label-arrow\">RandomForestClassifier</label><div class=\"sk-toggleable__content\"><pre>RandomForestClassifier()</pre></div></div></div></div></div>"
      ],
      "text/plain": [
       "RandomForestClassifier()"
      ]
     },
     "execution_count": 61,
     "metadata": {},
     "output_type": "execute_result"
    }
   ],
   "source": [
    "rf = RandomForestClassifier()\n",
    "rf.fit(x_train, y_train)"
   ]
  },
  {
   "cell_type": "code",
   "execution_count": 62,
   "id": "89ac3caa",
   "metadata": {},
   "outputs": [],
   "source": [
    "pred_rf = rf.predict(x_pred)"
   ]
  },
  {
   "cell_type": "code",
   "execution_count": 63,
   "id": "6855e301",
   "metadata": {},
   "outputs": [
    {
     "name": "stdout",
     "output_type": "stream",
     "text": [
      "Accuracy score: 86.26339004410838\n",
      "F1 score: 0.683828861493836\n",
      "================================================================================\n",
      "              precision    recall  f1-score   support\n",
      "\n",
      "           0       0.89      0.94      0.91      4847\n",
      "           1       0.75      0.63      0.68      1501\n",
      "\n",
      "    accuracy                           0.86      6348\n",
      "   macro avg       0.82      0.78      0.80      6348\n",
      "weighted avg       0.86      0.86      0.86      6348\n",
      "\n"
     ]
    }
   ],
   "source": [
    "print(\"Accuracy score: {}\".format(accuracy_score(y_pred, pred_rf)*100))\n",
    "print(\"F1 score: {}\".format(f1_score(y_pred, pred_rf)))\n",
    "print(\"=\"*80)\n",
    "print(classification_report(y_pred, pred_rf))"
   ]
  },
  {
   "cell_type": "markdown",
   "id": "b0ea2643",
   "metadata": {},
   "source": [
    "## Decision Tree"
   ]
  },
  {
   "cell_type": "code",
   "execution_count": 64,
   "id": "5146c789",
   "metadata": {},
   "outputs": [
    {
     "data": {
      "text/html": [
       "<style>#sk-container-id-3 {color: black;background-color: white;}#sk-container-id-3 pre{padding: 0;}#sk-container-id-3 div.sk-toggleable {background-color: white;}#sk-container-id-3 label.sk-toggleable__label {cursor: pointer;display: block;width: 100%;margin-bottom: 0;padding: 0.3em;box-sizing: border-box;text-align: center;}#sk-container-id-3 label.sk-toggleable__label-arrow:before {content: \"▸\";float: left;margin-right: 0.25em;color: #696969;}#sk-container-id-3 label.sk-toggleable__label-arrow:hover:before {color: black;}#sk-container-id-3 div.sk-estimator:hover label.sk-toggleable__label-arrow:before {color: black;}#sk-container-id-3 div.sk-toggleable__content {max-height: 0;max-width: 0;overflow: hidden;text-align: left;background-color: #f0f8ff;}#sk-container-id-3 div.sk-toggleable__content pre {margin: 0.2em;color: black;border-radius: 0.25em;background-color: #f0f8ff;}#sk-container-id-3 input.sk-toggleable__control:checked~div.sk-toggleable__content {max-height: 200px;max-width: 100%;overflow: auto;}#sk-container-id-3 input.sk-toggleable__control:checked~label.sk-toggleable__label-arrow:before {content: \"▾\";}#sk-container-id-3 div.sk-estimator input.sk-toggleable__control:checked~label.sk-toggleable__label {background-color: #d4ebff;}#sk-container-id-3 div.sk-label input.sk-toggleable__control:checked~label.sk-toggleable__label {background-color: #d4ebff;}#sk-container-id-3 input.sk-hidden--visually {border: 0;clip: rect(1px 1px 1px 1px);clip: rect(1px, 1px, 1px, 1px);height: 1px;margin: -1px;overflow: hidden;padding: 0;position: absolute;width: 1px;}#sk-container-id-3 div.sk-estimator {font-family: monospace;background-color: #f0f8ff;border: 1px dotted black;border-radius: 0.25em;box-sizing: border-box;margin-bottom: 0.5em;}#sk-container-id-3 div.sk-estimator:hover {background-color: #d4ebff;}#sk-container-id-3 div.sk-parallel-item::after {content: \"\";width: 100%;border-bottom: 1px solid gray;flex-grow: 1;}#sk-container-id-3 div.sk-label:hover label.sk-toggleable__label {background-color: #d4ebff;}#sk-container-id-3 div.sk-serial::before {content: \"\";position: absolute;border-left: 1px solid gray;box-sizing: border-box;top: 0;bottom: 0;left: 50%;z-index: 0;}#sk-container-id-3 div.sk-serial {display: flex;flex-direction: column;align-items: center;background-color: white;padding-right: 0.2em;padding-left: 0.2em;position: relative;}#sk-container-id-3 div.sk-item {position: relative;z-index: 1;}#sk-container-id-3 div.sk-parallel {display: flex;align-items: stretch;justify-content: center;background-color: white;position: relative;}#sk-container-id-3 div.sk-item::before, #sk-container-id-3 div.sk-parallel-item::before {content: \"\";position: absolute;border-left: 1px solid gray;box-sizing: border-box;top: 0;bottom: 0;left: 50%;z-index: -1;}#sk-container-id-3 div.sk-parallel-item {display: flex;flex-direction: column;z-index: 1;position: relative;background-color: white;}#sk-container-id-3 div.sk-parallel-item:first-child::after {align-self: flex-end;width: 50%;}#sk-container-id-3 div.sk-parallel-item:last-child::after {align-self: flex-start;width: 50%;}#sk-container-id-3 div.sk-parallel-item:only-child::after {width: 0;}#sk-container-id-3 div.sk-dashed-wrapped {border: 1px dashed gray;margin: 0 0.4em 0.5em 0.4em;box-sizing: border-box;padding-bottom: 0.4em;background-color: white;}#sk-container-id-3 div.sk-label label {font-family: monospace;font-weight: bold;display: inline-block;line-height: 1.2em;}#sk-container-id-3 div.sk-label-container {text-align: center;}#sk-container-id-3 div.sk-container {/* jupyter's `normalize.less` sets `[hidden] { display: none; }` but bootstrap.min.css set `[hidden] { display: none !important; }` so we also need the `!important` here to be able to override the default hidden behavior on the sphinx rendered scikit-learn.org. See: https://github.com/scikit-learn/scikit-learn/issues/21755 */display: inline-block !important;position: relative;}#sk-container-id-3 div.sk-text-repr-fallback {display: none;}</style><div id=\"sk-container-id-3\" class=\"sk-top-container\"><div class=\"sk-text-repr-fallback\"><pre>DecisionTreeClassifier()</pre><b>In a Jupyter environment, please rerun this cell to show the HTML representation or trust the notebook. <br />On GitHub, the HTML representation is unable to render, please try loading this page with nbviewer.org.</b></div><div class=\"sk-container\" hidden><div class=\"sk-item\"><div class=\"sk-estimator sk-toggleable\"><input class=\"sk-toggleable__control sk-hidden--visually\" id=\"sk-estimator-id-3\" type=\"checkbox\" checked><label for=\"sk-estimator-id-3\" class=\"sk-toggleable__label sk-toggleable__label-arrow\">DecisionTreeClassifier</label><div class=\"sk-toggleable__content\"><pre>DecisionTreeClassifier()</pre></div></div></div></div></div>"
      ],
      "text/plain": [
       "DecisionTreeClassifier()"
      ]
     },
     "execution_count": 64,
     "metadata": {},
     "output_type": "execute_result"
    }
   ],
   "source": [
    "from sklearn import tree\n",
    "dt = tree.DecisionTreeClassifier()\n",
    "dt.fit(x_train, y_train)"
   ]
  },
  {
   "cell_type": "code",
   "execution_count": 65,
   "id": "bfdcff28",
   "metadata": {},
   "outputs": [],
   "source": [
    "pred_dt = dt.predict(x_pred)"
   ]
  },
  {
   "cell_type": "code",
   "execution_count": 66,
   "id": "7cf4305b",
   "metadata": {},
   "outputs": [
    {
     "name": "stdout",
     "output_type": "stream",
     "text": [
      "Accuracy score: 81.0333963453056\n",
      "F1 score: 0.6042077580539119\n",
      "================================================================================\n",
      "              precision    recall  f1-score   support\n",
      "\n",
      "           0       0.88      0.87      0.88      4847\n",
      "           1       0.60      0.61      0.60      1501\n",
      "\n",
      "    accuracy                           0.81      6348\n",
      "   macro avg       0.74      0.74      0.74      6348\n",
      "weighted avg       0.81      0.81      0.81      6348\n",
      "\n"
     ]
    }
   ],
   "source": [
    "print(\"Accuracy score: {}\".format(accuracy_score(y_pred, pred_dt)*100))\n",
    "print(\"F1 score: {}\".format(f1_score(y_pred, pred_dt)))\n",
    "print(\"=\"*80)\n",
    "print(classification_report(y_pred, pred_dt))"
   ]
  },
  {
   "cell_type": "markdown",
   "id": "533ae4de",
   "metadata": {},
   "source": [
    "## Gradient Boosted Classifier"
   ]
  },
  {
   "cell_type": "code",
   "execution_count": 68,
   "id": "4c7daec9",
   "metadata": {},
   "outputs": [],
   "source": [
    "gb = GradientBoostingClassifier()"
   ]
  },
  {
   "cell_type": "code",
   "execution_count": 69,
   "id": "96fe9aef",
   "metadata": {},
   "outputs": [],
   "source": [
    "gb.fit(x_train, y_train)\n",
    "pred_gb = gb.predict(x_pred)"
   ]
  },
  {
   "cell_type": "code",
   "execution_count": 70,
   "id": "0b2aec89",
   "metadata": {},
   "outputs": [
    {
     "name": "stdout",
     "output_type": "stream",
     "text": [
      "Accuracy score: 86.8935097668557\n",
      "F1 score: 0.6860377358490566\n",
      "================================================================================\n",
      "              precision    recall  f1-score   support\n",
      "\n",
      "           0       0.89      0.95      0.92      4847\n",
      "           1       0.79      0.61      0.69      1501\n",
      "\n",
      "    accuracy                           0.87      6348\n",
      "   macro avg       0.84      0.78      0.80      6348\n",
      "weighted avg       0.86      0.87      0.86      6348\n",
      "\n"
     ]
    }
   ],
   "source": [
    "print(\"Accuracy score: {}\".format(accuracy_score(y_pred, pred_gb)*100))\n",
    "print(\"F1 score: {}\".format(f1_score(y_pred, pred_gb)))\n",
    "print(\"=\"*80)\n",
    "print(classification_report(y_pred, pred_gb))"
   ]
  },
  {
   "cell_type": "markdown",
   "id": "59716b45",
   "metadata": {},
   "source": [
    "# K-Fold Cross Validation"
   ]
  },
  {
   "cell_type": "code",
   "execution_count": 71,
   "id": "2bffe136",
   "metadata": {},
   "outputs": [],
   "source": [
    "from sklearn.model_selection import cross_val_score"
   ]
  },
  {
   "cell_type": "code",
   "execution_count": 72,
   "id": "554d16b8",
   "metadata": {},
   "outputs": [],
   "source": [
    "scores_dt = cross_val_score(dt, X_scaler,y, cv=7,scoring = 'f1')\n",
    "scores_gb = cross_val_score(gb, X_scaler,y, cv=7,scoring = 'f1')\n",
    "scores_rf = cross_val_score(rf, X_scaler,y, cv=7,scoring = 'f1')"
   ]
  },
  {
   "cell_type": "code",
   "execution_count": 73,
   "id": "8775b11a",
   "metadata": {},
   "outputs": [
    {
     "name": "stdout",
     "output_type": "stream",
     "text": [
      "Decision Tree CV        :  0.6013790722979954\n",
      "Gradient Boosting CV    :  0.6714215668667108\n",
      "Random Forest   CV      :  0.6631709824518295\n"
     ]
    }
   ],
   "source": [
    "print(\"Decision Tree CV        : \" , scores_dt.mean())\n",
    "print(\"Gradient Boosting CV    : \" , scores_gb.mean())\n",
    "print(\"Random Forest   CV      : \" , scores_rf.mean())"
   ]
  },
  {
   "cell_type": "code",
   "execution_count": 74,
   "id": "f5e13ebf",
   "metadata": {},
   "outputs": [
    {
     "name": "stdout",
     "output_type": "stream",
     "text": [
      "+-----------------------------+----------+----------+\n",
      "| Model                       |       F1 |    F1_CV |\n",
      "+=============================+==========+==========+\n",
      "| Random Forest Classifier    | 0.683829 | 0.663171 |\n",
      "+-----------------------------+----------+----------+\n",
      "| Decision Tree               | 0.604208 | 0.601379 |\n",
      "+-----------------------------+----------+----------+\n",
      "| Gradient Boosted Classifier | 0.686038 | 0.671422 |\n",
      "+-----------------------------+----------+----------+\n"
     ]
    }
   ],
   "source": [
    "# import module\n",
    "from tabulate import tabulate\n",
    "# assign data\n",
    "mydata_2 =[ [\"Random Forest Classifier\",f1_score(y_pred, pred_rf),scores_rf.mean()],\n",
    "    [\"Decision Tree\",f1_score(y_pred, pred_dt),scores_dt.mean()],\n",
    "    [\"Gradient Boosted Classifier\", f1_score(y_pred, pred_gb),scores_gb.mean()],\n",
    "    \n",
    "        ]\n",
    "\n",
    " \n",
    "# create header\n",
    "head = [\"Model\", \"F1\",\"F1_CV\"]\n",
    " \n",
    "# display table\n",
    "print(tabulate(mydata_2, headers=head, tablefmt=\"grid\"))\n",
    "table = pd.DataFrame(mydata_2)"
   ]
  },
  {
   "cell_type": "code",
   "execution_count": 75,
   "id": "f8623ee5",
   "metadata": {},
   "outputs": [
    {
     "data": {
      "image/png": "[encoded data removed]",
      "text/plain": [
       "<Figure size 1080x360 with 1 Axes>"
      ]
     },
     "metadata": {
      "needs_background": "light"
     },
     "output_type": "display_data"
    }
   ],
   "source": [
    "plt.rcParams[\"figure.figsize\"] = (15,5)\n",
    "plt.plot(table[0],table[1], label = \"F1\")\n",
    "plt.plot(table[0],table[2], label = \"F1_CV\")\n",
    "plt.xlabel('x - axis')\n",
    "plt.ylabel('y - axis')\n",
    "plt.title('F1 VS F1_CV')\n",
    "plt.legend()\n",
    "plt.show()"
   ]
  },
  {
   "cell_type": "markdown",
   "id": "3f322ceb",
   "metadata": {},
   "source": [
    "# GradientBoosting Tree Using Grid Search"
   ]
  },
  {
   "cell_type": "code",
   "execution_count": 76,
   "id": "20f79f28",
   "metadata": {},
   "outputs": [
    {
     "data": {
      "text/html": [
       "<style>#sk-container-id-4 {color: black;background-color: white;}#sk-container-id-4 pre{padding: 0;}#sk-container-id-4 div.sk-toggleable {background-color: white;}#sk-container-id-4 label.sk-toggleable__label {cursor: pointer;display: block;width: 100%;margin-bottom: 0;padding: 0.3em;box-sizing: border-box;text-align: center;}#sk-container-id-4 label.sk-toggleable__label-arrow:before {content: \"▸\";float: left;margin-right: 0.25em;color: #696969;}#sk-container-id-4 label.sk-toggleable__label-arrow:hover:before {color: black;}#sk-container-id-4 div.sk-estimator:hover label.sk-toggleable__label-arrow:before {color: black;}#sk-container-id-4 div.sk-toggleable__content {max-height: 0;max-width: 0;overflow: hidden;text-align: left;background-color: #f0f8ff;}#sk-container-id-4 div.sk-toggleable__content pre {margin: 0.2em;color: black;border-radius: 0.25em;background-color: #f0f8ff;}#sk-container-id-4 input.sk-toggleable__control:checked~div.sk-toggleable__content {max-height: 200px;max-width: 100%;overflow: auto;}#sk-container-id-4 input.sk-toggleable__control:checked~label.sk-toggleable__label-arrow:before {content: \"▾\";}#sk-container-id-4 div.sk-estimator input.sk-toggleable__control:checked~label.sk-toggleable__label {background-color: #d4ebff;}#sk-container-id-4 div.sk-label input.sk-toggleable__control:checked~label.sk-toggleable__label {background-color: #d4ebff;}#sk-container-id-4 input.sk-hidden--visually {border: 0;clip: rect(1px 1px 1px 1px);clip: rect(1px, 1px, 1px, 1px);height: 1px;margin: -1px;overflow: hidden;padding: 0;position: absolute;width: 1px;}#sk-container-id-4 div.sk-estimator {font-family: monospace;background-color: #f0f8ff;border: 1px dotted black;border-radius: 0.25em;box-sizing: border-box;margin-bottom: 0.5em;}#sk-container-id-4 div.sk-estimator:hover {background-color: #d4ebff;}#sk-container-id-4 div.sk-parallel-item::after {content: \"\";width: 100%;border-bottom: 1px solid gray;flex-grow: 1;}#sk-container-id-4 div.sk-label:hover label.sk-toggleable__label {background-color: #d4ebff;}#sk-container-id-4 div.sk-serial::before {content: \"\";position: absolute;border-left: 1px solid gray;box-sizing: border-box;top: 0;bottom: 0;left: 50%;z-index: 0;}#sk-container-id-4 div.sk-serial {display: flex;flex-direction: column;align-items: center;background-color: white;padding-right: 0.2em;padding-left: 0.2em;position: relative;}#sk-container-id-4 div.sk-item {position: relative;z-index: 1;}#sk-container-id-4 div.sk-parallel {display: flex;align-items: stretch;justify-content: center;background-color: white;position: relative;}#sk-container-id-4 div.sk-item::before, #sk-container-id-4 div.sk-parallel-item::before {content: \"\";position: absolute;border-left: 1px solid gray;box-sizing: border-box;top: 0;bottom: 0;left: 50%;z-index: -1;}#sk-container-id-4 div.sk-parallel-item {display: flex;flex-direction: column;z-index: 1;position: relative;background-color: white;}#sk-container-id-4 div.sk-parallel-item:first-child::after {align-self: flex-end;width: 50%;}#sk-container-id-4 div.sk-parallel-item:last-child::after {align-self: flex-start;width: 50%;}#sk-container-id-4 div.sk-parallel-item:only-child::after {width: 0;}#sk-container-id-4 div.sk-dashed-wrapped {border: 1px dashed gray;margin: 0 0.4em 0.5em 0.4em;box-sizing: border-box;padding-bottom: 0.4em;background-color: white;}#sk-container-id-4 div.sk-label label {font-family: monospace;font-weight: bold;display: inline-block;line-height: 1.2em;}#sk-container-id-4 div.sk-label-container {text-align: center;}#sk-container-id-4 div.sk-container {/* jupyter's `normalize.less` sets `[hidden] { display: none; }` but bootstrap.min.css set `[hidden] { display: none !important; }` so we also need the `!important` here to be able to override the default hidden behavior on the sphinx rendered scikit-learn.org. See: https://github.com/scikit-learn/scikit-learn/issues/21755 */display: inline-block !important;position: relative;}#sk-container-id-4 div.sk-text-repr-fallback {display: none;}</style><div id=\"sk-container-id-4\" class=\"sk-top-container\"><div class=\"sk-text-repr-fallback\"><pre>GridSearchCV(cv=10,\n",
       "             estimator=GradientBoostingClassifier(max_depth=8,\n",
       "                                                  max_features=&#x27;sqrt&#x27;,\n",
       "                                                  min_samples_leaf=50,\n",
       "                                                  min_samples_split=500,\n",
       "                                                  random_state=10,\n",
       "                                                  subsample=0.8),\n",
       "             n_jobs=4, param_grid={&#x27;n_estimators&#x27;: range(20, 81, 10)},\n",
       "             scoring=&#x27;roc_auc&#x27;)</pre><b>In a Jupyter environment, please rerun this cell to show the HTML representation or trust the notebook. <br />On GitHub, the HTML representation is unable to render, please try loading this page with nbviewer.org.</b></div><div class=\"sk-container\" hidden><div class=\"sk-item sk-dashed-wrapped\"><div class=\"sk-label-container\"><div class=\"sk-label sk-toggleable\"><input class=\"sk-toggleable__control sk-hidden--visually\" id=\"sk-estimator-id-4\" type=\"checkbox\" ><label for=\"sk-estimator-id-4\" class=\"sk-toggleable__label sk-toggleable__label-arrow\">GridSearchCV</label><div class=\"sk-toggleable__content\"><pre>GridSearchCV(cv=10,\n",
       "             estimator=GradientBoostingClassifier(max_depth=8,\n",
       "                                                  max_features=&#x27;sqrt&#x27;,\n",
       "                                                  min_samples_leaf=50,\n",
       "                                                  min_samples_split=500,\n",
       "                                                  random_state=10,\n",
       "                                                  subsample=0.8),\n",
       "             n_jobs=4, param_grid={&#x27;n_estimators&#x27;: range(20, 81, 10)},\n",
       "             scoring=&#x27;roc_auc&#x27;)</pre></div></div></div><div class=\"sk-parallel\"><div class=\"sk-parallel-item\"><div class=\"sk-item\"><div class=\"sk-label-container\"><div class=\"sk-label sk-toggleable\"><input class=\"sk-toggleable__control sk-hidden--visually\" id=\"sk-estimator-id-5\" type=\"checkbox\" ><label for=\"sk-estimator-id-5\" class=\"sk-toggleable__label sk-toggleable__label-arrow\">estimator: GradientBoostingClassifier</label><div class=\"sk-toggleable__content\"><pre>GradientBoostingClassifier(max_depth=8, max_features=&#x27;sqrt&#x27;,\n",
       "                           min_samples_leaf=50, min_samples_split=500,\n",
       "                           random_state=10, subsample=0.8)</pre></div></div></div><div class=\"sk-serial\"><div class=\"sk-item\"><div class=\"sk-estimator sk-toggleable\"><input class=\"sk-toggleable__control sk-hidden--visually\" id=\"sk-estimator-id-6\" type=\"checkbox\" ><label for=\"sk-estimator-id-6\" class=\"sk-toggleable__label sk-toggleable__label-arrow\">GradientBoostingClassifier</label><div class=\"sk-toggleable__content\"><pre>GradientBoostingClassifier(max_depth=8, max_features=&#x27;sqrt&#x27;,\n",
       "                           min_samples_leaf=50, min_samples_split=500,\n",
       "                           random_state=10, subsample=0.8)</pre></div></div></div></div></div></div></div></div></div></div>"
      ],
      "text/plain": [
       "GridSearchCV(cv=10,\n",
       "             estimator=GradientBoostingClassifier(max_depth=8,\n",
       "                                                  max_features='sqrt',\n",
       "                                                  min_samples_leaf=50,\n",
       "                                                  min_samples_split=500,\n",
       "                                                  random_state=10,\n",
       "                                                  subsample=0.8),\n",
       "             n_jobs=4, param_grid={'n_estimators': range(20, 81, 10)},\n",
       "             scoring='roc_auc')"
      ]
     },
     "execution_count": 76,
     "metadata": {},
     "output_type": "execute_result"
    }
   ],
   "source": [
    "from sklearn.model_selection import GridSearchCV\n",
    "\n",
    "param_test1 = {'n_estimators':range(20,81,10)}\n",
    "gsearch1 = GridSearchCV(estimator = GradientBoostingClassifier(learning_rate=0.1, min_samples_split=500,min_samples_leaf=50,max_depth=8,max_features='sqrt',subsample=0.8,random_state=10), \n",
    "param_grid = param_test1, scoring='roc_auc',n_jobs=4, cv=10)\n",
    "gsearch1.fit(x_train, y_train)"
   ]
  },
  {
   "cell_type": "code",
   "execution_count": 77,
   "id": "699a6a80",
   "metadata": {},
   "outputs": [
    {
     "data": {
      "text/html": [
       "<style>#sk-container-id-5 {color: black;background-color: white;}#sk-container-id-5 pre{padding: 0;}#sk-container-id-5 div.sk-toggleable {background-color: white;}#sk-container-id-5 label.sk-toggleable__label {cursor: pointer;display: block;width: 100%;margin-bottom: 0;padding: 0.3em;box-sizing: border-box;text-align: center;}#sk-container-id-5 label.sk-toggleable__label-arrow:before {content: \"▸\";float: left;margin-right: 0.25em;color: #696969;}#sk-container-id-5 label.sk-toggleable__label-arrow:hover:before {color: black;}#sk-container-id-5 div.sk-estimator:hover label.sk-toggleable__label-arrow:before {color: black;}#sk-container-id-5 div.sk-toggleable__content {max-height: 0;max-width: 0;overflow: hidden;text-align: left;background-color: #f0f8ff;}#sk-container-id-5 div.sk-toggleable__content pre {margin: 0.2em;color: black;border-radius: 0.25em;background-color: #f0f8ff;}#sk-container-id-5 input.sk-toggleable__control:checked~div.sk-toggleable__content {max-height: 200px;max-width: 100%;overflow: auto;}#sk-container-id-5 input.sk-toggleable__control:checked~label.sk-toggleable__label-arrow:before {content: \"▾\";}#sk-container-id-5 div.sk-estimator input.sk-toggleable__control:checked~label.sk-toggleable__label {background-color: #d4ebff;}#sk-container-id-5 div.sk-label input.sk-toggleable__control:checked~label.sk-toggleable__label {background-color: #d4ebff;}#sk-container-id-5 input.sk-hidden--visually {border: 0;clip: rect(1px 1px 1px 1px);clip: rect(1px, 1px, 1px, 1px);height: 1px;margin: -1px;overflow: hidden;padding: 0;position: absolute;width: 1px;}#sk-container-id-5 div.sk-estimator {font-family: monospace;background-color: #f0f8ff;border: 1px dotted black;border-radius: 0.25em;box-sizing: border-box;margin-bottom: 0.5em;}#sk-container-id-5 div.sk-estimator:hover {background-color: #d4ebff;}#sk-container-id-5 div.sk-parallel-item::after {content: \"\";width: 100%;border-bottom: 1px solid gray;flex-grow: 1;}#sk-container-id-5 div.sk-label:hover label.sk-toggleable__label {background-color: #d4ebff;}#sk-container-id-5 div.sk-serial::before {content: \"\";position: absolute;border-left: 1px solid gray;box-sizing: border-box;top: 0;bottom: 0;left: 50%;z-index: 0;}#sk-container-id-5 div.sk-serial {display: flex;flex-direction: column;align-items: center;background-color: white;padding-right: 0.2em;padding-left: 0.2em;position: relative;}#sk-container-id-5 div.sk-item {position: relative;z-index: 1;}#sk-container-id-5 div.sk-parallel {display: flex;align-items: stretch;justify-content: center;background-color: white;position: relative;}#sk-container-id-5 div.sk-item::before, #sk-container-id-5 div.sk-parallel-item::before {content: \"\";position: absolute;border-left: 1px solid gray;box-sizing: border-box;top: 0;bottom: 0;left: 50%;z-index: -1;}#sk-container-id-5 div.sk-parallel-item {display: flex;flex-direction: column;z-index: 1;position: relative;background-color: white;}#sk-container-id-5 div.sk-parallel-item:first-child::after {align-self: flex-end;width: 50%;}#sk-container-id-5 div.sk-parallel-item:last-child::after {align-self: flex-start;width: 50%;}#sk-container-id-5 div.sk-parallel-item:only-child::after {width: 0;}#sk-container-id-5 div.sk-dashed-wrapped {border: 1px dashed gray;margin: 0 0.4em 0.5em 0.4em;box-sizing: border-box;padding-bottom: 0.4em;background-color: white;}#sk-container-id-5 div.sk-label label {font-family: monospace;font-weight: bold;display: inline-block;line-height: 1.2em;}#sk-container-id-5 div.sk-label-container {text-align: center;}#sk-container-id-5 div.sk-container {/* jupyter's `normalize.less` sets `[hidden] { display: none; }` but bootstrap.min.css set `[hidden] { display: none !important; }` so we also need the `!important` here to be able to override the default hidden behavior on the sphinx rendered scikit-learn.org. See: https://github.com/scikit-learn/scikit-learn/issues/21755 */display: inline-block !important;position: relative;}#sk-container-id-5 div.sk-text-repr-fallback {display: none;}</style><div id=\"sk-container-id-5\" class=\"sk-top-container\"><div class=\"sk-text-repr-fallback\"><pre>GradientBoostingClassifier(max_depth=8, max_features=&#x27;sqrt&#x27;,\n",
       "                           min_samples_leaf=50, min_samples_split=500,\n",
       "                           n_estimators=80, random_state=10, subsample=0.8)</pre><b>In a Jupyter environment, please rerun this cell to show the HTML representation or trust the notebook. <br />On GitHub, the HTML representation is unable to render, please try loading this page with nbviewer.org.</b></div><div class=\"sk-container\" hidden><div class=\"sk-item\"><div class=\"sk-estimator sk-toggleable\"><input class=\"sk-toggleable__control sk-hidden--visually\" id=\"sk-estimator-id-7\" type=\"checkbox\" checked><label for=\"sk-estimator-id-7\" class=\"sk-toggleable__label sk-toggleable__label-arrow\">GradientBoostingClassifier</label><div class=\"sk-toggleable__content\"><pre>GradientBoostingClassifier(max_depth=8, max_features=&#x27;sqrt&#x27;,\n",
       "                           min_samples_leaf=50, min_samples_split=500,\n",
       "                           n_estimators=80, random_state=10, subsample=0.8)</pre></div></div></div></div></div>"
      ],
      "text/plain": [
       "GradientBoostingClassifier(max_depth=8, max_features='sqrt',\n",
       "                           min_samples_leaf=50, min_samples_split=500,\n",
       "                           n_estimators=80, random_state=10, subsample=0.8)"
      ]
     },
     "execution_count": 77,
     "metadata": {},
     "output_type": "execute_result"
    }
   ],
   "source": [
    "final_model = gsearch1.best_estimator_\n",
    "final_model"
   ]
  },
  {
   "cell_type": "code",
   "execution_count": 78,
   "id": "d1943bb7",
   "metadata": {},
   "outputs": [],
   "source": [
    "#Training the model\n",
    "tree_clas = GradientBoostingClassifier(max_depth=8, max_features='sqrt',\n",
    "                           min_samples_leaf=50, min_samples_split=500,\n",
    "                           n_estimators=80, random_state=10, subsample=0.8)\n",
    "tree_clas.fit(x_train, y_train)\n",
    "y_predict = tree_clas.predict(x_pred)"
   ]
  },
  {
   "cell_type": "code",
   "execution_count": 79,
   "id": "38c722b9",
   "metadata": {},
   "outputs": [
    {
     "name": "stdout",
     "output_type": "stream",
     "text": [
      "Accuracy score: 87.38185255198488\n",
      "F1 score: 0.7111431662459431\n",
      "================================================================================\n",
      "              precision    recall  f1-score   support\n",
      "\n",
      "           0       0.90      0.94      0.92      4847\n",
      "           1       0.78      0.66      0.71      1501\n",
      "\n",
      "    accuracy                           0.87      6348\n",
      "   macro avg       0.84      0.80      0.82      6348\n",
      "weighted avg       0.87      0.87      0.87      6348\n",
      "\n"
     ]
    }
   ],
   "source": [
    "print(\"Accuracy score: {}\".format(accuracy_score(y_pred, y_predict)*100))\n",
    "print(\"F1 score: {}\".format(f1_score(y_pred, y_predict)))\n",
    "print(\"=\"*80)\n",
    "print(classification_report(y_pred, y_predict))"
   ]
  },
  {
   "cell_type": "markdown",
   "id": "8fad83cb",
   "metadata": {},
   "source": [
    "We can see that for Gradient Boosting got the best F1 score."
   ]
  }
 ],
 "metadata": {
  "kernelspec": {
   "display_name": "Python 3 (ipykernel)",
   "language": "python",
   "name": "python3"
  },
  "language_info": {
   "codemirror_mode": {
    "name": "ipython",
    "version": 3
   },
   "file_extension": ".py",
   "mimetype": "text/x-python",
   "name": "python",
   "nbconvert_exporter": "python",
   "pygments_lexer": "ipython3",
   "version": "3.9.12"
  }
 },
 "nbformat": 4,
 "nbformat_minor": 5
}
